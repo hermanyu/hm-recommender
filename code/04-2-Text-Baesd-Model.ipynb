{
 "cells": [
  {
   "cell_type": "markdown",
   "id": "95991a7b-d56f-4098-87e0-906ab0a7a81a",
   "metadata": {},
   "source": [
    "# 04-2 Text Based Recommender"
   ]
  },
  {
   "cell_type": "markdown",
   "id": "ef572ccc-d96b-40de-a25d-a031b35b851d",
   "metadata": {},
   "source": [
    "In this notebook we build a recommender system using text based description of each product in our inventory. The idea is as follows:\n",
    "1. Encode each product description as a latent vector. Cache all of these encodings into a database.\n",
    "2. Given a query in the form of a string, encode the query as latent vector.\n",
    "3. For each product description, compare query vector with product vector via cosine similarity.\n",
    "4. Return product(s) with highest similarity score."
   ]
  },
  {
   "cell_type": "code",
   "execution_count": 1,
   "id": "bce63b83-0195-4288-bfdd-e25cb2db3f7a",
   "metadata": {},
   "outputs": [],
   "source": [
    "from torchvision import transforms\n",
    "from torch.utils.data import Dataset, DataLoader\n",
    "import torch.nn as nn\n",
    "import torch.nn.functional as F\n",
    "import torch\n",
    "\n",
    "import pandas as pd\n",
    "import numpy as np\n",
    "import matplotlib.pyplot as plt\n",
    "\n",
    "import support_victor_machine as supp\n",
    "\n",
    "from nltk.tokenize import RegexpTokenizer\n",
    "from nltk.corpus import stopwords"
   ]
  },
  {
   "cell_type": "code",
   "execution_count": 2,
   "id": "f80e43a6-79ab-4da2-bfc9-13c62bd0b271",
   "metadata": {},
   "outputs": [
    {
     "data": {
      "text/html": [
       "<div>\n",
       "<style scoped>\n",
       "    .dataframe tbody tr th:only-of-type {\n",
       "        vertical-align: middle;\n",
       "    }\n",
       "\n",
       "    .dataframe tbody tr th {\n",
       "        vertical-align: top;\n",
       "    }\n",
       "\n",
       "    .dataframe thead th {\n",
       "        text-align: right;\n",
       "    }\n",
       "</style>\n",
       "<table border=\"1\" class=\"dataframe\">\n",
       "  <thead>\n",
       "    <tr style=\"text-align: right;\">\n",
       "      <th></th>\n",
       "      <th>article_id</th>\n",
       "      <th>product_code</th>\n",
       "      <th>prod_name</th>\n",
       "      <th>product_type_no</th>\n",
       "      <th>product_type_name</th>\n",
       "      <th>product_group_name</th>\n",
       "      <th>graphical_appearance_no</th>\n",
       "      <th>graphical_appearance_name</th>\n",
       "      <th>colour_group_code</th>\n",
       "      <th>colour_group_name</th>\n",
       "      <th>...</th>\n",
       "      <th>department_name</th>\n",
       "      <th>index_code</th>\n",
       "      <th>index_name</th>\n",
       "      <th>index_group_no</th>\n",
       "      <th>index_group_name</th>\n",
       "      <th>section_no</th>\n",
       "      <th>section_name</th>\n",
       "      <th>garment_group_no</th>\n",
       "      <th>garment_group_name</th>\n",
       "      <th>detail_desc</th>\n",
       "    </tr>\n",
       "  </thead>\n",
       "  <tbody>\n",
       "    <tr>\n",
       "      <th>0</th>\n",
       "      <td>108775015</td>\n",
       "      <td>108775</td>\n",
       "      <td>Strap top</td>\n",
       "      <td>253</td>\n",
       "      <td>Vest top</td>\n",
       "      <td>Garment Upper body</td>\n",
       "      <td>1010016</td>\n",
       "      <td>Solid</td>\n",
       "      <td>9</td>\n",
       "      <td>Black</td>\n",
       "      <td>...</td>\n",
       "      <td>Jersey Basic</td>\n",
       "      <td>A</td>\n",
       "      <td>Ladieswear</td>\n",
       "      <td>1</td>\n",
       "      <td>Ladieswear</td>\n",
       "      <td>16</td>\n",
       "      <td>Womens Everyday Basics</td>\n",
       "      <td>1002</td>\n",
       "      <td>Jersey Basic</td>\n",
       "      <td>Jersey top with narrow shoulder straps.</td>\n",
       "    </tr>\n",
       "    <tr>\n",
       "      <th>1</th>\n",
       "      <td>108775044</td>\n",
       "      <td>108775</td>\n",
       "      <td>Strap top</td>\n",
       "      <td>253</td>\n",
       "      <td>Vest top</td>\n",
       "      <td>Garment Upper body</td>\n",
       "      <td>1010016</td>\n",
       "      <td>Solid</td>\n",
       "      <td>10</td>\n",
       "      <td>White</td>\n",
       "      <td>...</td>\n",
       "      <td>Jersey Basic</td>\n",
       "      <td>A</td>\n",
       "      <td>Ladieswear</td>\n",
       "      <td>1</td>\n",
       "      <td>Ladieswear</td>\n",
       "      <td>16</td>\n",
       "      <td>Womens Everyday Basics</td>\n",
       "      <td>1002</td>\n",
       "      <td>Jersey Basic</td>\n",
       "      <td>Jersey top with narrow shoulder straps.</td>\n",
       "    </tr>\n",
       "    <tr>\n",
       "      <th>2</th>\n",
       "      <td>108775051</td>\n",
       "      <td>108775</td>\n",
       "      <td>Strap top (1)</td>\n",
       "      <td>253</td>\n",
       "      <td>Vest top</td>\n",
       "      <td>Garment Upper body</td>\n",
       "      <td>1010017</td>\n",
       "      <td>Stripe</td>\n",
       "      <td>11</td>\n",
       "      <td>Off White</td>\n",
       "      <td>...</td>\n",
       "      <td>Jersey Basic</td>\n",
       "      <td>A</td>\n",
       "      <td>Ladieswear</td>\n",
       "      <td>1</td>\n",
       "      <td>Ladieswear</td>\n",
       "      <td>16</td>\n",
       "      <td>Womens Everyday Basics</td>\n",
       "      <td>1002</td>\n",
       "      <td>Jersey Basic</td>\n",
       "      <td>Jersey top with narrow shoulder straps.</td>\n",
       "    </tr>\n",
       "    <tr>\n",
       "      <th>3</th>\n",
       "      <td>110065001</td>\n",
       "      <td>110065</td>\n",
       "      <td>OP T-shirt (Idro)</td>\n",
       "      <td>306</td>\n",
       "      <td>Bra</td>\n",
       "      <td>Underwear</td>\n",
       "      <td>1010016</td>\n",
       "      <td>Solid</td>\n",
       "      <td>9</td>\n",
       "      <td>Black</td>\n",
       "      <td>...</td>\n",
       "      <td>Clean Lingerie</td>\n",
       "      <td>B</td>\n",
       "      <td>Lingeries/Tights</td>\n",
       "      <td>1</td>\n",
       "      <td>Ladieswear</td>\n",
       "      <td>61</td>\n",
       "      <td>Womens Lingerie</td>\n",
       "      <td>1017</td>\n",
       "      <td>Under-, Nightwear</td>\n",
       "      <td>Microfibre T-shirt bra with underwired, moulde...</td>\n",
       "    </tr>\n",
       "    <tr>\n",
       "      <th>4</th>\n",
       "      <td>110065002</td>\n",
       "      <td>110065</td>\n",
       "      <td>OP T-shirt (Idro)</td>\n",
       "      <td>306</td>\n",
       "      <td>Bra</td>\n",
       "      <td>Underwear</td>\n",
       "      <td>1010016</td>\n",
       "      <td>Solid</td>\n",
       "      <td>10</td>\n",
       "      <td>White</td>\n",
       "      <td>...</td>\n",
       "      <td>Clean Lingerie</td>\n",
       "      <td>B</td>\n",
       "      <td>Lingeries/Tights</td>\n",
       "      <td>1</td>\n",
       "      <td>Ladieswear</td>\n",
       "      <td>61</td>\n",
       "      <td>Womens Lingerie</td>\n",
       "      <td>1017</td>\n",
       "      <td>Under-, Nightwear</td>\n",
       "      <td>Microfibre T-shirt bra with underwired, moulde...</td>\n",
       "    </tr>\n",
       "  </tbody>\n",
       "</table>\n",
       "<p>5 rows × 25 columns</p>\n",
       "</div>"
      ],
      "text/plain": [
       "   article_id  product_code          prod_name  product_type_no  \\\n",
       "0   108775015        108775          Strap top              253   \n",
       "1   108775044        108775          Strap top              253   \n",
       "2   108775051        108775      Strap top (1)              253   \n",
       "3   110065001        110065  OP T-shirt (Idro)              306   \n",
       "4   110065002        110065  OP T-shirt (Idro)              306   \n",
       "\n",
       "  product_type_name  product_group_name  graphical_appearance_no  \\\n",
       "0          Vest top  Garment Upper body                  1010016   \n",
       "1          Vest top  Garment Upper body                  1010016   \n",
       "2          Vest top  Garment Upper body                  1010017   \n",
       "3               Bra           Underwear                  1010016   \n",
       "4               Bra           Underwear                  1010016   \n",
       "\n",
       "  graphical_appearance_name  colour_group_code colour_group_name  ...  \\\n",
       "0                     Solid                  9             Black  ...   \n",
       "1                     Solid                 10             White  ...   \n",
       "2                    Stripe                 11         Off White  ...   \n",
       "3                     Solid                  9             Black  ...   \n",
       "4                     Solid                 10             White  ...   \n",
       "\n",
       "   department_name index_code        index_name index_group_no  \\\n",
       "0     Jersey Basic          A        Ladieswear              1   \n",
       "1     Jersey Basic          A        Ladieswear              1   \n",
       "2     Jersey Basic          A        Ladieswear              1   \n",
       "3   Clean Lingerie          B  Lingeries/Tights              1   \n",
       "4   Clean Lingerie          B  Lingeries/Tights              1   \n",
       "\n",
       "   index_group_name section_no            section_name garment_group_no  \\\n",
       "0        Ladieswear         16  Womens Everyday Basics             1002   \n",
       "1        Ladieswear         16  Womens Everyday Basics             1002   \n",
       "2        Ladieswear         16  Womens Everyday Basics             1002   \n",
       "3        Ladieswear         61         Womens Lingerie             1017   \n",
       "4        Ladieswear         61         Womens Lingerie             1017   \n",
       "\n",
       "   garment_group_name                                        detail_desc  \n",
       "0        Jersey Basic            Jersey top with narrow shoulder straps.  \n",
       "1        Jersey Basic            Jersey top with narrow shoulder straps.  \n",
       "2        Jersey Basic            Jersey top with narrow shoulder straps.  \n",
       "3   Under-, Nightwear  Microfibre T-shirt bra with underwired, moulde...  \n",
       "4   Under-, Nightwear  Microfibre T-shirt bra with underwired, moulde...  \n",
       "\n",
       "[5 rows x 25 columns]"
      ]
     },
     "execution_count": 2,
     "metadata": {},
     "output_type": "execute_result"
    }
   ],
   "source": [
    "articles = pd.read_csv('../data/articles.csv')\n",
    "\n",
    "articles.head()"
   ]
  },
  {
   "cell_type": "code",
   "execution_count": 16,
   "id": "5e3bc4c6-d3b4-4cf6-a45a-c54ca5cff41b",
   "metadata": {},
   "outputs": [
    {
     "data": {
      "text/html": [
       "<div>\n",
       "<style scoped>\n",
       "    .dataframe tbody tr th:only-of-type {\n",
       "        vertical-align: middle;\n",
       "    }\n",
       "\n",
       "    .dataframe tbody tr th {\n",
       "        vertical-align: top;\n",
       "    }\n",
       "\n",
       "    .dataframe thead th {\n",
       "        text-align: right;\n",
       "    }\n",
       "</style>\n",
       "<table border=\"1\" class=\"dataframe\">\n",
       "  <thead>\n",
       "    <tr style=\"text-align: right;\">\n",
       "      <th></th>\n",
       "      <th>product_code</th>\n",
       "      <th>detail_desc</th>\n",
       "    </tr>\n",
       "  </thead>\n",
       "  <tbody>\n",
       "    <tr>\n",
       "      <th>0</th>\n",
       "      <td>108775</td>\n",
       "      <td>Jersey top with narrow shoulder straps.</td>\n",
       "    </tr>\n",
       "    <tr>\n",
       "      <th>1</th>\n",
       "      <td>110065</td>\n",
       "      <td>Microfibre T-shirt bra with underwired, moulde...</td>\n",
       "    </tr>\n",
       "    <tr>\n",
       "      <th>2</th>\n",
       "      <td>111565</td>\n",
       "      <td>Semi shiny nylon stockings with a wide, reinfo...</td>\n",
       "    </tr>\n",
       "    <tr>\n",
       "      <th>3</th>\n",
       "      <td>111586</td>\n",
       "      <td>Tights with built-in support to lift the botto...</td>\n",
       "    </tr>\n",
       "    <tr>\n",
       "      <th>4</th>\n",
       "      <td>111593</td>\n",
       "      <td>Semi shiny tights that shape the tummy, thighs...</td>\n",
       "    </tr>\n",
       "  </tbody>\n",
       "</table>\n",
       "</div>"
      ],
      "text/plain": [
       "   product_code                                        detail_desc\n",
       "0        108775            Jersey top with narrow shoulder straps.\n",
       "1        110065  Microfibre T-shirt bra with underwired, moulde...\n",
       "2        111565  Semi shiny nylon stockings with a wide, reinfo...\n",
       "3        111586  Tights with built-in support to lift the botto...\n",
       "4        111593  Semi shiny tights that shape the tummy, thighs..."
      ]
     },
     "execution_count": 16,
     "metadata": {},
     "output_type": "execute_result"
    }
   ],
   "source": [
    "product_desc = articles.groupby('product_code', as_index=False)['detail_desc'].value_counts()[['product_code', 'detail_desc']]\n",
    "\n",
    "product_desc.head()"
   ]
  },
  {
   "cell_type": "code",
   "execution_count": 18,
   "id": "7f969953-b2f9-49f3-8e0d-618e5053fe81",
   "metadata": {},
   "outputs": [],
   "source": [
    "product_desc.to_csv('../data/product_desc.csv',index=False)"
   ]
  },
  {
   "cell_type": "code",
   "execution_count": 6,
   "id": "c33280f3-1f5b-4f91-8df3-31fdda3fe823",
   "metadata": {},
   "outputs": [
    {
     "data": {
      "text/html": [
       "<div>\n",
       "<style scoped>\n",
       "    .dataframe tbody tr th:only-of-type {\n",
       "        vertical-align: middle;\n",
       "    }\n",
       "\n",
       "    .dataframe tbody tr th {\n",
       "        vertical-align: top;\n",
       "    }\n",
       "\n",
       "    .dataframe thead th {\n",
       "        text-align: right;\n",
       "    }\n",
       "</style>\n",
       "<table border=\"1\" class=\"dataframe\">\n",
       "  <thead>\n",
       "    <tr style=\"text-align: right;\">\n",
       "      <th></th>\n",
       "      <th>article_id</th>\n",
       "      <th>product_code</th>\n",
       "      <th>detail_desc</th>\n",
       "    </tr>\n",
       "  </thead>\n",
       "  <tbody>\n",
       "    <tr>\n",
       "      <th>0</th>\n",
       "      <td>108775015</td>\n",
       "      <td>108775</td>\n",
       "      <td>Jersey top with narrow shoulder straps.</td>\n",
       "    </tr>\n",
       "    <tr>\n",
       "      <th>1</th>\n",
       "      <td>108775044</td>\n",
       "      <td>108775</td>\n",
       "      <td>Jersey top with narrow shoulder straps.</td>\n",
       "    </tr>\n",
       "    <tr>\n",
       "      <th>2</th>\n",
       "      <td>108775051</td>\n",
       "      <td>108775</td>\n",
       "      <td>Jersey top with narrow shoulder straps.</td>\n",
       "    </tr>\n",
       "    <tr>\n",
       "      <th>3</th>\n",
       "      <td>110065001</td>\n",
       "      <td>110065</td>\n",
       "      <td>Microfibre T-shirt bra with underwired, moulde...</td>\n",
       "    </tr>\n",
       "    <tr>\n",
       "      <th>4</th>\n",
       "      <td>110065002</td>\n",
       "      <td>110065</td>\n",
       "      <td>Microfibre T-shirt bra with underwired, moulde...</td>\n",
       "    </tr>\n",
       "    <tr>\n",
       "      <th>...</th>\n",
       "      <td>...</td>\n",
       "      <td>...</td>\n",
       "      <td>...</td>\n",
       "    </tr>\n",
       "    <tr>\n",
       "      <th>105537</th>\n",
       "      <td>953450001</td>\n",
       "      <td>953450</td>\n",
       "      <td>Socks in a fine-knit cotton blend with a small...</td>\n",
       "    </tr>\n",
       "    <tr>\n",
       "      <th>105538</th>\n",
       "      <td>953763001</td>\n",
       "      <td>953763</td>\n",
       "      <td>Loose-fitting sports vest top in ribbed fast-d...</td>\n",
       "    </tr>\n",
       "    <tr>\n",
       "      <th>105539</th>\n",
       "      <td>956217002</td>\n",
       "      <td>956217</td>\n",
       "      <td>Short, A-line dress in jersey with a round nec...</td>\n",
       "    </tr>\n",
       "    <tr>\n",
       "      <th>105540</th>\n",
       "      <td>957375001</td>\n",
       "      <td>957375</td>\n",
       "      <td>Large plastic hair claw.</td>\n",
       "    </tr>\n",
       "    <tr>\n",
       "      <th>105541</th>\n",
       "      <td>959461001</td>\n",
       "      <td>959461</td>\n",
       "      <td>Calf-length dress in ribbed jersey made from a...</td>\n",
       "    </tr>\n",
       "  </tbody>\n",
       "</table>\n",
       "<p>105542 rows × 3 columns</p>\n",
       "</div>"
      ],
      "text/plain": [
       "        article_id  product_code  \\\n",
       "0        108775015        108775   \n",
       "1        108775044        108775   \n",
       "2        108775051        108775   \n",
       "3        110065001        110065   \n",
       "4        110065002        110065   \n",
       "...            ...           ...   \n",
       "105537   953450001        953450   \n",
       "105538   953763001        953763   \n",
       "105539   956217002        956217   \n",
       "105540   957375001        957375   \n",
       "105541   959461001        959461   \n",
       "\n",
       "                                              detail_desc  \n",
       "0                 Jersey top with narrow shoulder straps.  \n",
       "1                 Jersey top with narrow shoulder straps.  \n",
       "2                 Jersey top with narrow shoulder straps.  \n",
       "3       Microfibre T-shirt bra with underwired, moulde...  \n",
       "4       Microfibre T-shirt bra with underwired, moulde...  \n",
       "...                                                   ...  \n",
       "105537  Socks in a fine-knit cotton blend with a small...  \n",
       "105538  Loose-fitting sports vest top in ribbed fast-d...  \n",
       "105539  Short, A-line dress in jersey with a round nec...  \n",
       "105540                           Large plastic hair claw.  \n",
       "105541  Calf-length dress in ribbed jersey made from a...  \n",
       "\n",
       "[105542 rows x 3 columns]"
      ]
     },
     "execution_count": 6,
     "metadata": {},
     "output_type": "execute_result"
    }
   ],
   "source": [
    "article_desc = articles[['article_id','product_code','detail_desc']]\n",
    "\n",
    "article_desc"
   ]
  },
  {
   "cell_type": "markdown",
   "id": "76b3732f-ec26-4c77-a450-7329102016c0",
   "metadata": {},
   "source": [
    "---"
   ]
  },
  {
   "cell_type": "markdown",
   "id": "1d8c3e92-69d3-4fdf-b0c5-dbda03175b30",
   "metadata": {},
   "source": [
    "## Bert"
   ]
  },
  {
   "cell_type": "markdown",
   "id": "11010ce3-d855-4891-854f-0d173c4ee410",
   "metadata": {},
   "source": [
    "To encode the product descriptions, we'll use Google's BERT model. BERT is a **transformer**, a type of neural network built using a mechanism called **self-attention** embedded inside of a stack of encoders and a stack of decoders. The gist of BERT is that it learns to associate pairs of words in a sentence. \n",
    "\n",
    "For example, if we passed the sentence: \"The dress was blue with puffy sleeves.\", BERT can recognize that the adjective \"blue\" is describing \"the dress\", while the adjective \"puffy\" is describing the \"sleeves\".\n",
    "\n",
    "Let us demonstrate how BERT encodes textual data into vector data."
   ]
  },
  {
   "cell_type": "code",
   "execution_count": 11,
   "id": "2db9d791-82dd-4dbb-abf4-48d6856ef66c",
   "metadata": {},
   "outputs": [],
   "source": [
    "from pytorch_transformers import BertTokenizer, BertModel, BertForMaskedLM"
   ]
  },
  {
   "cell_type": "code",
   "execution_count": 68,
   "id": "f2685a39-19fd-4d15-9060-d8102685626e",
   "metadata": {},
   "outputs": [],
   "source": [
    "bert_tokenizer = BertTokenizer.from_pretrained('bert-base-uncased')"
   ]
  },
  {
   "cell_type": "code",
   "execution_count": 69,
   "id": "0c88da01-17c8-486a-b3ee-cfbec57e4c6f",
   "metadata": {},
   "outputs": [
    {
     "data": {
      "text/plain": [
       "['[CLS]',\n",
       " 'who',\n",
       " 'is',\n",
       " 'brad',\n",
       " 'pitt',\n",
       " '?',\n",
       " '[SEP]',\n",
       " 'brad',\n",
       " 'pitt',\n",
       " 'is',\n",
       " 'an',\n",
       " 'actor',\n",
       " '[SEP]']"
      ]
     },
     "execution_count": 69,
     "metadata": {},
     "output_type": "execute_result"
    }
   ],
   "source": [
    "text = '[CLS] Who is Brad Pitt ? [SEP] Brad Pitt is an actor [SEP]'\n",
    "\n",
    "tokenized_text = bert_tokenizer.tokenize(text)\n",
    "\n",
    "tokenized_text"
   ]
  },
  {
   "cell_type": "code",
   "execution_count": 70,
   "id": "e5171517-d650-44f4-a9a3-1aa9b0a3d9bb",
   "metadata": {},
   "outputs": [
    {
     "data": {
      "text/plain": [
       "[101, 2040, 2003, 8226, 15091, 1029, 102, 8226, 15091, 2003, 2019, 3364, 102]"
      ]
     },
     "execution_count": 70,
     "metadata": {},
     "output_type": "execute_result"
    }
   ],
   "source": [
    "indexed_tokens = bert_tokenizer.convert_tokens_to_ids(tokenized_text)\n",
    "segment_ids = [0,0,0,0,0,0,0,1,1,1,1,1,1]\n",
    "\n",
    "indexed_tokens"
   ]
  },
  {
   "cell_type": "code",
   "execution_count": 24,
   "id": "7154a889-1518-4f4f-80df-aa0a4b4c0d7f",
   "metadata": {},
   "outputs": [],
   "source": [
    "tokens_tensor = torch.tensor([indexed_tokens])\n",
    "segments_tensors= torch.tensor([segment_ids])"
   ]
  },
  {
   "cell_type": "code",
   "execution_count": 25,
   "id": "e16fd79d-5ddd-4496-ad58-da933d731010",
   "metadata": {
    "scrolled": true,
    "tags": []
   },
   "outputs": [
    {
     "data": {
      "text/plain": [
       "BertModel(\n",
       "  (embeddings): BertEmbeddings(\n",
       "    (word_embeddings): Embedding(30522, 768, padding_idx=0)\n",
       "    (position_embeddings): Embedding(512, 768)\n",
       "    (token_type_embeddings): Embedding(2, 768)\n",
       "    (LayerNorm): LayerNorm((768,), eps=1e-12, elementwise_affine=True)\n",
       "    (dropout): Dropout(p=0.1, inplace=False)\n",
       "  )\n",
       "  (encoder): BertEncoder(\n",
       "    (layer): ModuleList(\n",
       "      (0): BertLayer(\n",
       "        (attention): BertAttention(\n",
       "          (self): BertSelfAttention(\n",
       "            (query): Linear(in_features=768, out_features=768, bias=True)\n",
       "            (key): Linear(in_features=768, out_features=768, bias=True)\n",
       "            (value): Linear(in_features=768, out_features=768, bias=True)\n",
       "            (dropout): Dropout(p=0.1, inplace=False)\n",
       "          )\n",
       "          (output): BertSelfOutput(\n",
       "            (dense): Linear(in_features=768, out_features=768, bias=True)\n",
       "            (LayerNorm): LayerNorm((768,), eps=1e-12, elementwise_affine=True)\n",
       "            (dropout): Dropout(p=0.1, inplace=False)\n",
       "          )\n",
       "        )\n",
       "        (intermediate): BertIntermediate(\n",
       "          (dense): Linear(in_features=768, out_features=3072, bias=True)\n",
       "        )\n",
       "        (output): BertOutput(\n",
       "          (dense): Linear(in_features=3072, out_features=768, bias=True)\n",
       "          (LayerNorm): LayerNorm((768,), eps=1e-12, elementwise_affine=True)\n",
       "          (dropout): Dropout(p=0.1, inplace=False)\n",
       "        )\n",
       "      )\n",
       "      (1): BertLayer(\n",
       "        (attention): BertAttention(\n",
       "          (self): BertSelfAttention(\n",
       "            (query): Linear(in_features=768, out_features=768, bias=True)\n",
       "            (key): Linear(in_features=768, out_features=768, bias=True)\n",
       "            (value): Linear(in_features=768, out_features=768, bias=True)\n",
       "            (dropout): Dropout(p=0.1, inplace=False)\n",
       "          )\n",
       "          (output): BertSelfOutput(\n",
       "            (dense): Linear(in_features=768, out_features=768, bias=True)\n",
       "            (LayerNorm): LayerNorm((768,), eps=1e-12, elementwise_affine=True)\n",
       "            (dropout): Dropout(p=0.1, inplace=False)\n",
       "          )\n",
       "        )\n",
       "        (intermediate): BertIntermediate(\n",
       "          (dense): Linear(in_features=768, out_features=3072, bias=True)\n",
       "        )\n",
       "        (output): BertOutput(\n",
       "          (dense): Linear(in_features=3072, out_features=768, bias=True)\n",
       "          (LayerNorm): LayerNorm((768,), eps=1e-12, elementwise_affine=True)\n",
       "          (dropout): Dropout(p=0.1, inplace=False)\n",
       "        )\n",
       "      )\n",
       "      (2): BertLayer(\n",
       "        (attention): BertAttention(\n",
       "          (self): BertSelfAttention(\n",
       "            (query): Linear(in_features=768, out_features=768, bias=True)\n",
       "            (key): Linear(in_features=768, out_features=768, bias=True)\n",
       "            (value): Linear(in_features=768, out_features=768, bias=True)\n",
       "            (dropout): Dropout(p=0.1, inplace=False)\n",
       "          )\n",
       "          (output): BertSelfOutput(\n",
       "            (dense): Linear(in_features=768, out_features=768, bias=True)\n",
       "            (LayerNorm): LayerNorm((768,), eps=1e-12, elementwise_affine=True)\n",
       "            (dropout): Dropout(p=0.1, inplace=False)\n",
       "          )\n",
       "        )\n",
       "        (intermediate): BertIntermediate(\n",
       "          (dense): Linear(in_features=768, out_features=3072, bias=True)\n",
       "        )\n",
       "        (output): BertOutput(\n",
       "          (dense): Linear(in_features=3072, out_features=768, bias=True)\n",
       "          (LayerNorm): LayerNorm((768,), eps=1e-12, elementwise_affine=True)\n",
       "          (dropout): Dropout(p=0.1, inplace=False)\n",
       "        )\n",
       "      )\n",
       "      (3): BertLayer(\n",
       "        (attention): BertAttention(\n",
       "          (self): BertSelfAttention(\n",
       "            (query): Linear(in_features=768, out_features=768, bias=True)\n",
       "            (key): Linear(in_features=768, out_features=768, bias=True)\n",
       "            (value): Linear(in_features=768, out_features=768, bias=True)\n",
       "            (dropout): Dropout(p=0.1, inplace=False)\n",
       "          )\n",
       "          (output): BertSelfOutput(\n",
       "            (dense): Linear(in_features=768, out_features=768, bias=True)\n",
       "            (LayerNorm): LayerNorm((768,), eps=1e-12, elementwise_affine=True)\n",
       "            (dropout): Dropout(p=0.1, inplace=False)\n",
       "          )\n",
       "        )\n",
       "        (intermediate): BertIntermediate(\n",
       "          (dense): Linear(in_features=768, out_features=3072, bias=True)\n",
       "        )\n",
       "        (output): BertOutput(\n",
       "          (dense): Linear(in_features=3072, out_features=768, bias=True)\n",
       "          (LayerNorm): LayerNorm((768,), eps=1e-12, elementwise_affine=True)\n",
       "          (dropout): Dropout(p=0.1, inplace=False)\n",
       "        )\n",
       "      )\n",
       "      (4): BertLayer(\n",
       "        (attention): BertAttention(\n",
       "          (self): BertSelfAttention(\n",
       "            (query): Linear(in_features=768, out_features=768, bias=True)\n",
       "            (key): Linear(in_features=768, out_features=768, bias=True)\n",
       "            (value): Linear(in_features=768, out_features=768, bias=True)\n",
       "            (dropout): Dropout(p=0.1, inplace=False)\n",
       "          )\n",
       "          (output): BertSelfOutput(\n",
       "            (dense): Linear(in_features=768, out_features=768, bias=True)\n",
       "            (LayerNorm): LayerNorm((768,), eps=1e-12, elementwise_affine=True)\n",
       "            (dropout): Dropout(p=0.1, inplace=False)\n",
       "          )\n",
       "        )\n",
       "        (intermediate): BertIntermediate(\n",
       "          (dense): Linear(in_features=768, out_features=3072, bias=True)\n",
       "        )\n",
       "        (output): BertOutput(\n",
       "          (dense): Linear(in_features=3072, out_features=768, bias=True)\n",
       "          (LayerNorm): LayerNorm((768,), eps=1e-12, elementwise_affine=True)\n",
       "          (dropout): Dropout(p=0.1, inplace=False)\n",
       "        )\n",
       "      )\n",
       "      (5): BertLayer(\n",
       "        (attention): BertAttention(\n",
       "          (self): BertSelfAttention(\n",
       "            (query): Linear(in_features=768, out_features=768, bias=True)\n",
       "            (key): Linear(in_features=768, out_features=768, bias=True)\n",
       "            (value): Linear(in_features=768, out_features=768, bias=True)\n",
       "            (dropout): Dropout(p=0.1, inplace=False)\n",
       "          )\n",
       "          (output): BertSelfOutput(\n",
       "            (dense): Linear(in_features=768, out_features=768, bias=True)\n",
       "            (LayerNorm): LayerNorm((768,), eps=1e-12, elementwise_affine=True)\n",
       "            (dropout): Dropout(p=0.1, inplace=False)\n",
       "          )\n",
       "        )\n",
       "        (intermediate): BertIntermediate(\n",
       "          (dense): Linear(in_features=768, out_features=3072, bias=True)\n",
       "        )\n",
       "        (output): BertOutput(\n",
       "          (dense): Linear(in_features=3072, out_features=768, bias=True)\n",
       "          (LayerNorm): LayerNorm((768,), eps=1e-12, elementwise_affine=True)\n",
       "          (dropout): Dropout(p=0.1, inplace=False)\n",
       "        )\n",
       "      )\n",
       "      (6): BertLayer(\n",
       "        (attention): BertAttention(\n",
       "          (self): BertSelfAttention(\n",
       "            (query): Linear(in_features=768, out_features=768, bias=True)\n",
       "            (key): Linear(in_features=768, out_features=768, bias=True)\n",
       "            (value): Linear(in_features=768, out_features=768, bias=True)\n",
       "            (dropout): Dropout(p=0.1, inplace=False)\n",
       "          )\n",
       "          (output): BertSelfOutput(\n",
       "            (dense): Linear(in_features=768, out_features=768, bias=True)\n",
       "            (LayerNorm): LayerNorm((768,), eps=1e-12, elementwise_affine=True)\n",
       "            (dropout): Dropout(p=0.1, inplace=False)\n",
       "          )\n",
       "        )\n",
       "        (intermediate): BertIntermediate(\n",
       "          (dense): Linear(in_features=768, out_features=3072, bias=True)\n",
       "        )\n",
       "        (output): BertOutput(\n",
       "          (dense): Linear(in_features=3072, out_features=768, bias=True)\n",
       "          (LayerNorm): LayerNorm((768,), eps=1e-12, elementwise_affine=True)\n",
       "          (dropout): Dropout(p=0.1, inplace=False)\n",
       "        )\n",
       "      )\n",
       "      (7): BertLayer(\n",
       "        (attention): BertAttention(\n",
       "          (self): BertSelfAttention(\n",
       "            (query): Linear(in_features=768, out_features=768, bias=True)\n",
       "            (key): Linear(in_features=768, out_features=768, bias=True)\n",
       "            (value): Linear(in_features=768, out_features=768, bias=True)\n",
       "            (dropout): Dropout(p=0.1, inplace=False)\n",
       "          )\n",
       "          (output): BertSelfOutput(\n",
       "            (dense): Linear(in_features=768, out_features=768, bias=True)\n",
       "            (LayerNorm): LayerNorm((768,), eps=1e-12, elementwise_affine=True)\n",
       "            (dropout): Dropout(p=0.1, inplace=False)\n",
       "          )\n",
       "        )\n",
       "        (intermediate): BertIntermediate(\n",
       "          (dense): Linear(in_features=768, out_features=3072, bias=True)\n",
       "        )\n",
       "        (output): BertOutput(\n",
       "          (dense): Linear(in_features=3072, out_features=768, bias=True)\n",
       "          (LayerNorm): LayerNorm((768,), eps=1e-12, elementwise_affine=True)\n",
       "          (dropout): Dropout(p=0.1, inplace=False)\n",
       "        )\n",
       "      )\n",
       "      (8): BertLayer(\n",
       "        (attention): BertAttention(\n",
       "          (self): BertSelfAttention(\n",
       "            (query): Linear(in_features=768, out_features=768, bias=True)\n",
       "            (key): Linear(in_features=768, out_features=768, bias=True)\n",
       "            (value): Linear(in_features=768, out_features=768, bias=True)\n",
       "            (dropout): Dropout(p=0.1, inplace=False)\n",
       "          )\n",
       "          (output): BertSelfOutput(\n",
       "            (dense): Linear(in_features=768, out_features=768, bias=True)\n",
       "            (LayerNorm): LayerNorm((768,), eps=1e-12, elementwise_affine=True)\n",
       "            (dropout): Dropout(p=0.1, inplace=False)\n",
       "          )\n",
       "        )\n",
       "        (intermediate): BertIntermediate(\n",
       "          (dense): Linear(in_features=768, out_features=3072, bias=True)\n",
       "        )\n",
       "        (output): BertOutput(\n",
       "          (dense): Linear(in_features=3072, out_features=768, bias=True)\n",
       "          (LayerNorm): LayerNorm((768,), eps=1e-12, elementwise_affine=True)\n",
       "          (dropout): Dropout(p=0.1, inplace=False)\n",
       "        )\n",
       "      )\n",
       "      (9): BertLayer(\n",
       "        (attention): BertAttention(\n",
       "          (self): BertSelfAttention(\n",
       "            (query): Linear(in_features=768, out_features=768, bias=True)\n",
       "            (key): Linear(in_features=768, out_features=768, bias=True)\n",
       "            (value): Linear(in_features=768, out_features=768, bias=True)\n",
       "            (dropout): Dropout(p=0.1, inplace=False)\n",
       "          )\n",
       "          (output): BertSelfOutput(\n",
       "            (dense): Linear(in_features=768, out_features=768, bias=True)\n",
       "            (LayerNorm): LayerNorm((768,), eps=1e-12, elementwise_affine=True)\n",
       "            (dropout): Dropout(p=0.1, inplace=False)\n",
       "          )\n",
       "        )\n",
       "        (intermediate): BertIntermediate(\n",
       "          (dense): Linear(in_features=768, out_features=3072, bias=True)\n",
       "        )\n",
       "        (output): BertOutput(\n",
       "          (dense): Linear(in_features=3072, out_features=768, bias=True)\n",
       "          (LayerNorm): LayerNorm((768,), eps=1e-12, elementwise_affine=True)\n",
       "          (dropout): Dropout(p=0.1, inplace=False)\n",
       "        )\n",
       "      )\n",
       "      (10): BertLayer(\n",
       "        (attention): BertAttention(\n",
       "          (self): BertSelfAttention(\n",
       "            (query): Linear(in_features=768, out_features=768, bias=True)\n",
       "            (key): Linear(in_features=768, out_features=768, bias=True)\n",
       "            (value): Linear(in_features=768, out_features=768, bias=True)\n",
       "            (dropout): Dropout(p=0.1, inplace=False)\n",
       "          )\n",
       "          (output): BertSelfOutput(\n",
       "            (dense): Linear(in_features=768, out_features=768, bias=True)\n",
       "            (LayerNorm): LayerNorm((768,), eps=1e-12, elementwise_affine=True)\n",
       "            (dropout): Dropout(p=0.1, inplace=False)\n",
       "          )\n",
       "        )\n",
       "        (intermediate): BertIntermediate(\n",
       "          (dense): Linear(in_features=768, out_features=3072, bias=True)\n",
       "        )\n",
       "        (output): BertOutput(\n",
       "          (dense): Linear(in_features=3072, out_features=768, bias=True)\n",
       "          (LayerNorm): LayerNorm((768,), eps=1e-12, elementwise_affine=True)\n",
       "          (dropout): Dropout(p=0.1, inplace=False)\n",
       "        )\n",
       "      )\n",
       "      (11): BertLayer(\n",
       "        (attention): BertAttention(\n",
       "          (self): BertSelfAttention(\n",
       "            (query): Linear(in_features=768, out_features=768, bias=True)\n",
       "            (key): Linear(in_features=768, out_features=768, bias=True)\n",
       "            (value): Linear(in_features=768, out_features=768, bias=True)\n",
       "            (dropout): Dropout(p=0.1, inplace=False)\n",
       "          )\n",
       "          (output): BertSelfOutput(\n",
       "            (dense): Linear(in_features=768, out_features=768, bias=True)\n",
       "            (LayerNorm): LayerNorm((768,), eps=1e-12, elementwise_affine=True)\n",
       "            (dropout): Dropout(p=0.1, inplace=False)\n",
       "          )\n",
       "        )\n",
       "        (intermediate): BertIntermediate(\n",
       "          (dense): Linear(in_features=768, out_features=3072, bias=True)\n",
       "        )\n",
       "        (output): BertOutput(\n",
       "          (dense): Linear(in_features=3072, out_features=768, bias=True)\n",
       "          (LayerNorm): LayerNorm((768,), eps=1e-12, elementwise_affine=True)\n",
       "          (dropout): Dropout(p=0.1, inplace=False)\n",
       "        )\n",
       "      )\n",
       "    )\n",
       "  )\n",
       "  (pooler): BertPooler(\n",
       "    (dense): Linear(in_features=768, out_features=768, bias=True)\n",
       "    (activation): Tanh()\n",
       "  )\n",
       ")"
      ]
     },
     "execution_count": 25,
     "metadata": {},
     "output_type": "execute_result"
    }
   ],
   "source": [
    "model = BertModel.from_pretrained('bert-base-uncased')\n",
    "\n",
    "model.eval()"
   ]
  },
  {
   "cell_type": "code",
   "execution_count": 26,
   "id": "3c2b4594-2b99-476c-9c7c-5b502c1a47b9",
   "metadata": {},
   "outputs": [
    {
     "data": {
      "text/plain": [
       "tensor([[[-0.9093,  0.2959, -0.3539,  ..., -1.1109,  0.7214,  0.3194],\n",
       "         [-0.6692, -0.3558, -0.0102,  ..., -0.0533,  0.7098, -0.3872],\n",
       "         [-0.0745, -0.6621,  0.2456,  ..., -0.2663,  0.3234,  0.1851],\n",
       "         ...,\n",
       "         [-0.0936,  0.4367, -0.1312,  ..., -0.1786, -0.0175, -0.0775],\n",
       "         [-0.1089,  0.4316,  0.0312,  ..., -0.3157,  0.0407, -1.3747],\n",
       "         [ 0.7852,  0.1316, -0.3963,  ...,  0.1040, -0.4144, -0.2295]]],\n",
       "       device='cuda:0')"
      ]
     },
     "execution_count": 26,
     "metadata": {},
     "output_type": "execute_result"
    }
   ],
   "source": [
    "tokens_tensor = tokens_tensor.to('cuda')\n",
    "segments_tensor = segments_tensor.to('cuda')\n",
    "model.to('cuda')\n",
    "\n",
    "with torch.no_grad():\n",
    "    outputs = model(tokens_tensor, token_type_ids = segments_tensor)\n",
    "    # PyTorch-Transformers models always output tuples.\n",
    "    # In this case, the first element is the hidden state of the last layer of the Bert Model (i.e. our word embedding).\n",
    "    encoded_layers = outputs[0]\n",
    "    \n",
    "encoded_layers"
   ]
  },
  {
   "cell_type": "code",
   "execution_count": 28,
   "id": "24cccadc-adf2-4bb6-932a-bfb6ebc1cecc",
   "metadata": {},
   "outputs": [
    {
     "data": {
      "text/plain": [
       "tensor([[-0.9093,  0.2959, -0.3539,  ..., -1.1109,  0.7214,  0.3194],\n",
       "        [-0.6692, -0.3558, -0.0102,  ..., -0.0533,  0.7098, -0.3872],\n",
       "        [-0.0745, -0.6621,  0.2456,  ..., -0.2663,  0.3234,  0.1851],\n",
       "        ...,\n",
       "        [-0.0936,  0.4367, -0.1312,  ..., -0.1786, -0.0175, -0.0775],\n",
       "        [-0.1089,  0.4316,  0.0312,  ..., -0.3157,  0.0407, -1.3747],\n",
       "        [ 0.7852,  0.1316, -0.3963,  ...,  0.1040, -0.4144, -0.2295]],\n",
       "       device='cuda:0')"
      ]
     },
     "execution_count": 28,
     "metadata": {},
     "output_type": "execute_result"
    }
   ],
   "source": [
    "encoded_layers[0]"
   ]
  },
  {
   "cell_type": "code",
   "execution_count": 41,
   "id": "93bf8ca8-1b89-41dd-a8ab-7f89fd2fe08e",
   "metadata": {},
   "outputs": [
    {
     "data": {
      "text/plain": [
       "torch.Size([1, 13, 768])"
      ]
     },
     "execution_count": 41,
     "metadata": {},
     "output_type": "execute_result"
    }
   ],
   "source": [
    "encoded_layers.shape"
   ]
  },
  {
   "cell_type": "markdown",
   "id": "b0d59133-7115-4773-9df0-215fdcf34a40",
   "metadata": {},
   "source": [
    "---"
   ]
  },
  {
   "cell_type": "markdown",
   "id": "e0b76b28-1593-4410-91fe-93390979c9cf",
   "metadata": {},
   "source": [
    "Now let's see how to use the idea above to measure similarity between a query string and a product description."
   ]
  },
  {
   "cell_type": "code",
   "execution_count": 48,
   "id": "89deeeab-b774-4996-8a80-7bffb5bdec6b",
   "metadata": {},
   "outputs": [
    {
     "data": {
      "text/html": [
       "<div>\n",
       "<style scoped>\n",
       "    .dataframe tbody tr th:only-of-type {\n",
       "        vertical-align: middle;\n",
       "    }\n",
       "\n",
       "    .dataframe tbody tr th {\n",
       "        vertical-align: top;\n",
       "    }\n",
       "\n",
       "    .dataframe thead th {\n",
       "        text-align: right;\n",
       "    }\n",
       "</style>\n",
       "<table border=\"1\" class=\"dataframe\">\n",
       "  <thead>\n",
       "    <tr style=\"text-align: right;\">\n",
       "      <th></th>\n",
       "      <th>article_id</th>\n",
       "      <th>product_code</th>\n",
       "      <th>detail_desc</th>\n",
       "    </tr>\n",
       "  </thead>\n",
       "  <tbody>\n",
       "    <tr>\n",
       "      <th>0</th>\n",
       "      <td>108775015</td>\n",
       "      <td>108775</td>\n",
       "      <td>Jersey top with narrow shoulder straps.</td>\n",
       "    </tr>\n",
       "    <tr>\n",
       "      <th>1</th>\n",
       "      <td>108775044</td>\n",
       "      <td>108775</td>\n",
       "      <td>Jersey top with narrow shoulder straps.</td>\n",
       "    </tr>\n",
       "    <tr>\n",
       "      <th>2</th>\n",
       "      <td>108775051</td>\n",
       "      <td>108775</td>\n",
       "      <td>Jersey top with narrow shoulder straps.</td>\n",
       "    </tr>\n",
       "    <tr>\n",
       "      <th>3</th>\n",
       "      <td>110065001</td>\n",
       "      <td>110065</td>\n",
       "      <td>Microfibre T-shirt bra with underwired, moulde...</td>\n",
       "    </tr>\n",
       "    <tr>\n",
       "      <th>4</th>\n",
       "      <td>110065002</td>\n",
       "      <td>110065</td>\n",
       "      <td>Microfibre T-shirt bra with underwired, moulde...</td>\n",
       "    </tr>\n",
       "    <tr>\n",
       "      <th>5</th>\n",
       "      <td>110065011</td>\n",
       "      <td>110065</td>\n",
       "      <td>Microfibre T-shirt bra with underwired, moulde...</td>\n",
       "    </tr>\n",
       "  </tbody>\n",
       "</table>\n",
       "</div>"
      ],
      "text/plain": [
       "   article_id  product_code                                        detail_desc\n",
       "0   108775015        108775            Jersey top with narrow shoulder straps.\n",
       "1   108775044        108775            Jersey top with narrow shoulder straps.\n",
       "2   108775051        108775            Jersey top with narrow shoulder straps.\n",
       "3   110065001        110065  Microfibre T-shirt bra with underwired, moulde...\n",
       "4   110065002        110065  Microfibre T-shirt bra with underwired, moulde...\n",
       "5   110065011        110065  Microfibre T-shirt bra with underwired, moulde..."
      ]
     },
     "execution_count": 48,
     "metadata": {},
     "output_type": "execute_result"
    }
   ],
   "source": [
    "article_desc.loc[0:5]"
   ]
  },
  {
   "cell_type": "code",
   "execution_count": 58,
   "id": "e1642065-4529-4339-bbd8-e6572c19ed9e",
   "metadata": {},
   "outputs": [],
   "source": [
    "tokenizer = RegexpTokenizer(pattern=r'\\w\\w+')"
   ]
  },
  {
   "cell_type": "code",
   "execution_count": 85,
   "id": "3c1c2564-744e-4a66-8367-1e31299a69a2",
   "metadata": {},
   "outputs": [
    {
     "data": {
      "text/plain": [
       "['jersey top with narrow shoulder straps.',\n",
       " 'microfibre t-shirt bra with underwired, moulded, lightly padded cups that shape the bust and provide good support. narrow adjustable shoulder straps and a narrow hook-and-eye fastening at the back. without visible seams for greater comfort.']"
      ]
     },
     "execution_count": 85,
     "metadata": {},
     "output_type": "execute_result"
    }
   ],
   "source": [
    "stopwords_vocab = stopwords.words('english')\n",
    "\n",
    "batch_sentences = [article_desc.loc[0, 'detail_desc'].lower(), article_desc.loc[3, 'detail_desc'].lower()]\n",
    "\n",
    "batch_sentences"
   ]
  },
  {
   "cell_type": "markdown",
   "id": "dcf647eb-9fa7-4e53-b101-17ef70864115",
   "metadata": {},
   "source": [
    "So here we have two pieces of text data: 1) the product description for ```108775``` and 2) the product description for ```110065```.\n",
    "\n",
    "We will encode both descriptions into vectors using BERT, then measure their similarity using Cosine Similarity."
   ]
  },
  {
   "cell_type": "code",
   "execution_count": 86,
   "id": "176746c5-09fa-4112-bddb-1efc21fb19ef",
   "metadata": {},
   "outputs": [
    {
     "data": {
      "text/plain": [
       "[['jersey', 'top', 'narrow', 'shoulder', 'straps'],\n",
       " ['microfibre',\n",
       "  'shirt',\n",
       "  'bra',\n",
       "  'underwired',\n",
       "  'moulded',\n",
       "  'lightly',\n",
       "  'padded',\n",
       "  'cups',\n",
       "  'shape',\n",
       "  'bust',\n",
       "  'provide',\n",
       "  'good',\n",
       "  'support',\n",
       "  'narrow',\n",
       "  'adjustable',\n",
       "  'shoulder',\n",
       "  'straps',\n",
       "  'narrow',\n",
       "  'hook',\n",
       "  'eye',\n",
       "  'fastening',\n",
       "  'back',\n",
       "  'without',\n",
       "  'visible',\n",
       "  'seams',\n",
       "  'greater',\n",
       "  'comfort']]"
      ]
     },
     "execution_count": 86,
     "metadata": {},
     "output_type": "execute_result"
    }
   ],
   "source": [
    "batch_tokens = [tokenizer.tokenize(sent) for sent in batch_sentences]\n",
    "\n",
    "batch_tokens = [ [token for token in sent if token not in stopwords_vocab] for sent in batch_tokens]\n",
    "\n",
    "batch_tokens"
   ]
  },
  {
   "cell_type": "code",
   "execution_count": 66,
   "id": "135a7bbd-ac73-4540-aaa5-40b725a99a44",
   "metadata": {},
   "outputs": [
    {
     "data": {
      "text/plain": [
       "(5, 27)"
      ]
     },
     "execution_count": 66,
     "metadata": {},
     "output_type": "execute_result"
    }
   ],
   "source": [
    "len(batch_tokens[0]), len(batch_tokens[1])"
   ]
  },
  {
   "cell_type": "code",
   "execution_count": 74,
   "id": "ad24b5a1-1e44-4dd3-8739-f7897cff7e58",
   "metadata": {},
   "outputs": [],
   "source": [
    "desc1 = article_desc.loc[0,'detail_desc']\n",
    "desc2 = article_desc.loc[3,'detail_desc']\n",
    "\n",
    "desc1_tokens = bert_tokenizer.tokenize(desc1)\n",
    "desc2_tokens = bert_tokenizer.tokenize(desc2)\n",
    "\n",
    "index_tokens1 = bert_tokenizer.convert_tokens_to_ids(desc1_tokens)\n",
    "index_tokens2 = bert_tokenizer.convert_tokens_to_ids(desc2_tokens)"
   ]
  },
  {
   "cell_type": "code",
   "execution_count": 76,
   "id": "0dd789ce-8cf8-403a-a315-9dc66e076f44",
   "metadata": {},
   "outputs": [
    {
     "data": {
      "text/plain": [
       "(7, 54)"
      ]
     },
     "execution_count": 76,
     "metadata": {},
     "output_type": "execute_result"
    }
   ],
   "source": [
    "len(index_tokens1), len(index_tokens2)"
   ]
  },
  {
   "cell_type": "code",
   "execution_count": 80,
   "id": "4163ec30-0841-4802-b6ae-be47651ce4b8",
   "metadata": {},
   "outputs": [
    {
     "data": {
      "text/plain": [
       "tensor([[[ 0.2008, -0.8764, -0.1606,  ..., -0.5034,  0.0699,  0.1527],\n",
       "         [ 0.4071, -0.5673, -0.0292,  ..., -0.5300,  0.0326, -0.0323],\n",
       "         [ 0.0269, -0.3291, -0.1295,  ..., -0.4558, -0.4106, -0.0549],\n",
       "         ...,\n",
       "         [ 0.4381, -0.5147,  0.1010,  ..., -0.3515, -0.3497, -0.2480],\n",
       "         [ 0.4352, -0.4855,  0.0797,  ..., -0.4644, -0.2847, -0.2938],\n",
       "         [ 0.2863, -1.3549,  0.0071,  ..., -0.2281,  0.2523, -0.1669]]],\n",
       "       device='cuda:0')"
      ]
     },
     "execution_count": 80,
     "metadata": {},
     "output_type": "execute_result"
    }
   ],
   "source": [
    "segment1 = [0 for i in range(len(index_tokens1))]\n",
    "segment2 = [0 for i in range(len(index_tokens2))]\n",
    "\n",
    "tokens1_tensor = torch.tensor([index_tokens1])\n",
    "segment1_tensor = torch.tensor([segment1])\n",
    "\n",
    "tokens2_tensor = torch.tensor([index_tokens2])\n",
    "segment2_tensor = torch.tensor([segment2])\n",
    "\n",
    "\n",
    "tokens1_tensor = tokens1_tensor.to('cuda')\n",
    "segment1_tensor = segment1_tensor.to('cuda')\n",
    "\n",
    "tokens2_tensor = tokens2_tensor.to('cuda')\n",
    "segment2_tensor = segment2_tensor.to('cuda')\n",
    "\n",
    "with torch.no_grad():\n",
    "    outputs1 = model(tokens1_tensor, token_type_ids = segment1_tensor)\n",
    "    outputs2 = model(tokens2_tensor, token_type_ids = segment2_tensor)\n",
    "    # PyTorch-Transformers models always output tuples.\n",
    "    # In this case, the first element is the hidden state of the last layer of the Bert Model (i.e. our word embedding).\n",
    "    encoded1_layers = outputs1[0]\n",
    "    encoded2_layers = outputs2[0]\n",
    "    \n",
    "encoded1_layers"
   ]
  },
  {
   "cell_type": "markdown",
   "id": "1440c0df-46db-4e28-9fba-e2ce66ed144e",
   "metadata": {},
   "source": [
    "- Note: because the two product descriptions had a different number of words, the corresponding vector encodings are also different in size. What we have to do then, reduce both encodings down to a uniform size. One possible approach: take the mean of all the vectors and return a single vector for each of the descriptions."
   ]
  },
  {
   "cell_type": "code",
   "execution_count": 81,
   "id": "3a264f59-e8d7-4bfb-8805-2975fa44da51",
   "metadata": {},
   "outputs": [],
   "source": [
    "encoded1_mean = torch.mean(encoded1_layers, 1)\n",
    "encoded2_mean = torch.mean(encoded2_layers, 1)"
   ]
  },
  {
   "cell_type": "markdown",
   "id": "ffef52a8-7d66-4bfa-8fd0-415777c3ffdc",
   "metadata": {},
   "source": [
    "- Now we have 2 vectors of the same dimension, hence we can take their cosine."
   ]
  },
  {
   "cell_type": "code",
   "execution_count": 84,
   "id": "a88b0178-d964-4946-8c78-dcf64ee83df1",
   "metadata": {},
   "outputs": [
    {
     "data": {
      "text/plain": [
       "0.6666138768196106"
      ]
     },
     "execution_count": 84,
     "metadata": {},
     "output_type": "execute_result"
    }
   ],
   "source": [
    "cos = nn.CosineSimilarity(dim=1, eps=1e-6)\n",
    "\n",
    "cos(encoded1_mean, encoded2_mean).item()"
   ]
  },
  {
   "cell_type": "markdown",
   "id": "ec42590e-b372-4f31-b7c6-269982081cb4",
   "metadata": {},
   "source": [
    "---"
   ]
  },
  {
   "cell_type": "markdown",
   "id": "c08a4024-9ff2-4e16-bc98-e8476e7932b2",
   "metadata": {},
   "source": [
    "## Remarks"
   ]
  },
  {
   "cell_type": "markdown",
   "id": "9312cd52-d72d-4558-92e1-54ccf3b8ba3f",
   "metadata": {},
   "source": [
    "The methodology above is meant to be a rough demonstration of the possibility of using product descriptions as the basis for a recommender system.\n",
    "\n",
    "A much better approach is to use **Sentence BERT** or (S-BERT) which is a BERT model but built to encode entire sentences into a single vector. We can then take cosine similarities like before to measure similarities between product descriptions and return most similar items.\n",
    "\n",
    "Finally, this text-based idea of measuring similarity also naturally generalizes to a full-blown search engine functionality. Indeed, we implement such a search engine which returns recommended products based on their product descriptions against a queried string passed by the user. See the web application for a demonstration of this functionality."
   ]
  },
  {
   "cell_type": "code",
   "execution_count": null,
   "id": "27240b33-4ea7-4fba-a8b7-cc3dc343b637",
   "metadata": {},
   "outputs": [],
   "source": []
  }
 ],
 "metadata": {
  "kernelspec": {
   "display_name": "Python 3 (ipykernel)",
   "language": "python",
   "name": "python3"
  },
  "language_info": {
   "codemirror_mode": {
    "name": "ipython",
    "version": 3
   },
   "file_extension": ".py",
   "mimetype": "text/x-python",
   "name": "python",
   "nbconvert_exporter": "python",
   "pygments_lexer": "ipython3",
   "version": "3.9.12"
  }
 },
 "nbformat": 4,
 "nbformat_minor": 5
}
