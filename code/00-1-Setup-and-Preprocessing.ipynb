{
 "cells": [
  {
   "cell_type": "markdown",
   "id": "05585e1f-f250-485d-829e-77827ce9fe9b",
   "metadata": {},
   "source": [
    "# 00-1 Setup and Preprocessing"
   ]
  },
  {
   "cell_type": "markdown",
   "id": "74c24c7e-a825-492f-acf1-e6bd665e9480",
   "metadata": {},
   "source": [
    "In this notebook, we prepare 2 edited data sets for future use. The first is a transaction log by product code. The second is a transaction log consisting of items which have a corresponding image in the inventory. This is in preparation of the Image Search Feature we will implement at the end of the project."
   ]
  },
  {
   "cell_type": "code",
   "execution_count": 1,
   "id": "0fd038c0-3c82-47e1-a019-bc4bbe5ba57d",
   "metadata": {},
   "outputs": [],
   "source": [
    "import pandas as pd\n",
    "import numpy as np\n",
    "import matplotlib.pyplot as plt"
   ]
  },
  {
   "cell_type": "code",
   "execution_count": 11,
   "id": "bd9b705c-5a49-46cf-b2ac-32265fefa107",
   "metadata": {},
   "outputs": [],
   "source": [
    "# load the data\n",
    "transactions = pd.read_csv('../data/transactions_train.csv', parse_dates=['t_dat'])\n",
    "\n",
    "articles = pd.read_csv('../data/articles.csv')[['article_id', 'product_code']]"
   ]
  },
  {
   "cell_type": "code",
   "execution_count": 8,
   "id": "8205ccfc-f119-4127-a121-71f48afe4f3b",
   "metadata": {},
   "outputs": [
    {
     "data": {
      "text/plain": [
       "t_dat               datetime64[ns]\n",
       "customer_id                 object\n",
       "article_id                   int64\n",
       "price                      float64\n",
       "sales_channel_id             int64\n",
       "dtype: object"
      ]
     },
     "execution_count": 8,
     "metadata": {},
     "output_type": "execute_result"
    }
   ],
   "source": [
    "transactions.dtypes"
   ]
  },
  {
   "cell_type": "code",
   "execution_count": 3,
   "id": "0c874a55-6458-493b-897f-7afb0b09bcc1",
   "metadata": {},
   "outputs": [
    {
     "data": {
      "text/plain": [
       "(31788324, 5)"
      ]
     },
     "execution_count": 3,
     "metadata": {},
     "output_type": "execute_result"
    }
   ],
   "source": [
    "transactions.shape"
   ]
  },
  {
   "cell_type": "code",
   "execution_count": 4,
   "id": "ffc41189-526e-49f6-8d71-25e816ecd3d1",
   "metadata": {},
   "outputs": [
    {
     "data": {
      "text/plain": [
       "105542"
      ]
     },
     "execution_count": 4,
     "metadata": {},
     "output_type": "execute_result"
    }
   ],
   "source": [
    "len(articles['article_id'])"
   ]
  },
  {
   "cell_type": "markdown",
   "id": "04f68b0b-ef07-45b0-883a-48f1ea033f87",
   "metadata": {},
   "source": [
    "## Transactions by Product Code"
   ]
  },
  {
   "cell_type": "code",
   "execution_count": 12,
   "id": "7727b2fe-fbea-4449-a79b-2c23b0642355",
   "metadata": {},
   "outputs": [],
   "source": [
    "transactions_by_product = transactions[['t_dat','customer_id', 'article_id']]"
   ]
  },
  {
   "cell_type": "code",
   "execution_count": 13,
   "id": "9e50b314-62db-4f21-a0e1-60980ea8cb0c",
   "metadata": {},
   "outputs": [],
   "source": [
    "transactions_by_product = transactions_by_product.merge(right=articles, on = 'article_id')"
   ]
  },
  {
   "cell_type": "code",
   "execution_count": 14,
   "id": "2a2dda47-5f44-4b13-b6b1-d652204b9f9c",
   "metadata": {},
   "outputs": [],
   "source": [
    "transactions_by_product = transactions_by_product[['t_dat', 'customer_id', 'product_code']]"
   ]
  },
  {
   "cell_type": "code",
   "execution_count": 15,
   "id": "718e5c11-8cfd-4234-9b6e-a877f2ffd377",
   "metadata": {},
   "outputs": [
    {
     "data": {
      "text/html": [
       "<div>\n",
       "<style scoped>\n",
       "    .dataframe tbody tr th:only-of-type {\n",
       "        vertical-align: middle;\n",
       "    }\n",
       "\n",
       "    .dataframe tbody tr th {\n",
       "        vertical-align: top;\n",
       "    }\n",
       "\n",
       "    .dataframe thead th {\n",
       "        text-align: right;\n",
       "    }\n",
       "</style>\n",
       "<table border=\"1\" class=\"dataframe\">\n",
       "  <thead>\n",
       "    <tr style=\"text-align: right;\">\n",
       "      <th></th>\n",
       "      <th>t_dat</th>\n",
       "      <th>customer_id</th>\n",
       "      <th>product_code</th>\n",
       "    </tr>\n",
       "  </thead>\n",
       "  <tbody>\n",
       "    <tr>\n",
       "      <th>0</th>\n",
       "      <td>2018-09-20</td>\n",
       "      <td>000058a12d5b43e67d225668fa1f8d618c13dc232df0ca...</td>\n",
       "      <td>663713</td>\n",
       "    </tr>\n",
       "    <tr>\n",
       "      <th>1</th>\n",
       "      <td>2018-09-20</td>\n",
       "      <td>3681748607f3287d2c3a65e00bb5fb153de30e9becf158...</td>\n",
       "      <td>663713</td>\n",
       "    </tr>\n",
       "    <tr>\n",
       "      <th>2</th>\n",
       "      <td>2018-09-20</td>\n",
       "      <td>4ef5967ff17bf474bffebe5b16bd54878e1d4105f7b4ed...</td>\n",
       "      <td>663713</td>\n",
       "    </tr>\n",
       "    <tr>\n",
       "      <th>3</th>\n",
       "      <td>2018-09-20</td>\n",
       "      <td>6b7b10d2d47516c82a6f97332478dab748070f09693f09...</td>\n",
       "      <td>663713</td>\n",
       "    </tr>\n",
       "    <tr>\n",
       "      <th>4</th>\n",
       "      <td>2018-09-20</td>\n",
       "      <td>8ac137752bbe914aa4ae6ad007a9a0c5b67a1ab2b2d474...</td>\n",
       "      <td>663713</td>\n",
       "    </tr>\n",
       "  </tbody>\n",
       "</table>\n",
       "</div>"
      ],
      "text/plain": [
       "       t_dat                                        customer_id  product_code\n",
       "0 2018-09-20  000058a12d5b43e67d225668fa1f8d618c13dc232df0ca...        663713\n",
       "1 2018-09-20  3681748607f3287d2c3a65e00bb5fb153de30e9becf158...        663713\n",
       "2 2018-09-20  4ef5967ff17bf474bffebe5b16bd54878e1d4105f7b4ed...        663713\n",
       "3 2018-09-20  6b7b10d2d47516c82a6f97332478dab748070f09693f09...        663713\n",
       "4 2018-09-20  8ac137752bbe914aa4ae6ad007a9a0c5b67a1ab2b2d474...        663713"
      ]
     },
     "execution_count": 15,
     "metadata": {},
     "output_type": "execute_result"
    }
   ],
   "source": [
    "transactions_by_product.head()"
   ]
  },
  {
   "cell_type": "code",
   "execution_count": 16,
   "id": "a4e7d16b-8e60-424d-b50a-659d0ea61234",
   "metadata": {},
   "outputs": [],
   "source": [
    "transactions_by_product.to_csv('../data/transactions-by-product.csv', index=False)"
   ]
  },
  {
   "cell_type": "markdown",
   "id": "96802494-c949-4938-b441-5955521e7f31",
   "metadata": {},
   "source": [
    "## Transactions with Item Image"
   ]
  },
  {
   "cell_type": "code",
   "execution_count": 19,
   "id": "04c0e0a5-8055-44ac-b7ee-d6caad18b40e",
   "metadata": {},
   "outputs": [],
   "source": [
    "has_img = []\n",
    "\n",
    "for i in articles['article_id']:\n",
    "    file = '0'+str(i)\n",
    "    folder = file[0:3]\n",
    "    try:\n",
    "        read_image('../resized_images/'+folder+'/'+file+'.jpg')\n",
    "        has_img.append(i)\n",
    "    except:\n",
    "        pass\n",
    "    "
   ]
  },
  {
   "cell_type": "code",
   "execution_count": 21,
   "id": "0a6fbcb3-4487-4ef1-9051-12b9a9fb0800",
   "metadata": {},
   "outputs": [
    {
     "data": {
      "text/plain": [
       "105100"
      ]
     },
     "execution_count": 21,
     "metadata": {},
     "output_type": "execute_result"
    }
   ],
   "source": [
    "len(has_img)"
   ]
  },
  {
   "cell_type": "code",
   "execution_count": 24,
   "id": "39b74537-f889-40f0-a649-05930159f578",
   "metadata": {},
   "outputs": [],
   "source": [
    "transactions_with_img = transactions[ transactions['article_id'].isin(has_img) ]"
   ]
  },
  {
   "cell_type": "code",
   "execution_count": 25,
   "id": "2a1674ba-63d1-4aab-b2a9-52b2a03575e5",
   "metadata": {},
   "outputs": [
    {
     "data": {
      "text/plain": [
       "(31651678, 5)"
      ]
     },
     "execution_count": 25,
     "metadata": {},
     "output_type": "execute_result"
    }
   ],
   "source": [
    "transactions_with_img.shape"
   ]
  },
  {
   "cell_type": "code",
   "execution_count": 28,
   "id": "32f0eca3-afcd-499e-9921-c8711dbcf5a1",
   "metadata": {},
   "outputs": [],
   "source": [
    "transactions_with_img.to_csv('../data/transactions_cleaned.csv')"
   ]
  },
  {
   "cell_type": "code",
   "execution_count": null,
   "id": "611b87c2-ad2c-446d-adea-f84210339a29",
   "metadata": {},
   "outputs": [],
   "source": []
  }
 ],
 "metadata": {
  "kernelspec": {
   "display_name": "Python 3 (ipykernel)",
   "language": "python",
   "name": "python3"
  },
  "language_info": {
   "codemirror_mode": {
    "name": "ipython",
    "version": 3
   },
   "file_extension": ".py",
   "mimetype": "text/x-python",
   "name": "python",
   "nbconvert_exporter": "python",
   "pygments_lexer": "ipython3",
   "version": "3.9.12"
  }
 },
 "nbformat": 4,
 "nbformat_minor": 5
}
