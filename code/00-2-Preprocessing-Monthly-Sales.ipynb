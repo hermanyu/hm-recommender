{
 "cells": [
  {
   "cell_type": "markdown",
   "id": "ee15f2c3-3e4b-47af-9740-6f5278d32e10",
   "metadata": {},
   "source": [
    "# 00-2 Preprocessing for Monthly Transactions"
   ]
  },
  {
   "cell_type": "markdown",
   "id": "9d0c8aea-0fb1-4ad2-9ae6-331b38b0288c",
   "metadata": {},
   "source": [
    "In this notebook, we split the transaction into disjoint monthly intervals from August 2019 to September 2020."
   ]
  },
  {
   "cell_type": "code",
   "execution_count": 1,
   "id": "d44031f2-73fd-499e-9ccd-93effbe09946",
   "metadata": {},
   "outputs": [],
   "source": [
    "import pandas as pd\n",
    "import numpy as np\n",
    "from datetime import date"
   ]
  },
  {
   "cell_type": "markdown",
   "id": "1f88994b-76e4-4c73-8467-5e540bdb5ac3",
   "metadata": {},
   "source": [
    "- We start by reading in the transaction log from a csv file, setting ```t_dat``` to a datetime column."
   ]
  },
  {
   "cell_type": "code",
   "execution_count": 3,
   "id": "f3061bbb-5b96-4b6a-8ecb-7386631daaf2",
   "metadata": {},
   "outputs": [],
   "source": [
    "transactions = pd.read_csv('../data/transactions_cleaned.csv', date_parser='t_dat')"
   ]
  },
  {
   "cell_type": "code",
   "execution_count": 4,
   "id": "88145f2b-559a-42c9-a16c-d5de6fd62a02",
   "metadata": {},
   "outputs": [],
   "source": [
    "articles = pd.read_csv('../data/articles.csv')"
   ]
  },
  {
   "cell_type": "code",
   "execution_count": 5,
   "id": "3ab6aab7-b30e-428d-8149-a8af5a372a06",
   "metadata": {},
   "outputs": [
    {
     "data": {
      "text/html": [
       "<div>\n",
       "<style scoped>\n",
       "    .dataframe tbody tr th:only-of-type {\n",
       "        vertical-align: middle;\n",
       "    }\n",
       "\n",
       "    .dataframe tbody tr th {\n",
       "        vertical-align: top;\n",
       "    }\n",
       "\n",
       "    .dataframe thead th {\n",
       "        text-align: right;\n",
       "    }\n",
       "</style>\n",
       "<table border=\"1\" class=\"dataframe\">\n",
       "  <thead>\n",
       "    <tr style=\"text-align: right;\">\n",
       "      <th></th>\n",
       "      <th>Unnamed: 0</th>\n",
       "      <th>t_dat</th>\n",
       "      <th>customer_id</th>\n",
       "      <th>article_id</th>\n",
       "      <th>price</th>\n",
       "      <th>sales_channel_id</th>\n",
       "    </tr>\n",
       "  </thead>\n",
       "  <tbody>\n",
       "    <tr>\n",
       "      <th>0</th>\n",
       "      <td>0</td>\n",
       "      <td>2018-09-20</td>\n",
       "      <td>000058a12d5b43e67d225668fa1f8d618c13dc232df0ca...</td>\n",
       "      <td>663713001</td>\n",
       "      <td>0.050831</td>\n",
       "      <td>2</td>\n",
       "    </tr>\n",
       "    <tr>\n",
       "      <th>1</th>\n",
       "      <td>1</td>\n",
       "      <td>2018-09-20</td>\n",
       "      <td>000058a12d5b43e67d225668fa1f8d618c13dc232df0ca...</td>\n",
       "      <td>541518023</td>\n",
       "      <td>0.030492</td>\n",
       "      <td>2</td>\n",
       "    </tr>\n",
       "    <tr>\n",
       "      <th>2</th>\n",
       "      <td>2</td>\n",
       "      <td>2018-09-20</td>\n",
       "      <td>00007d2de826758b65a93dd24ce629ed66842531df6699...</td>\n",
       "      <td>505221004</td>\n",
       "      <td>0.015237</td>\n",
       "      <td>2</td>\n",
       "    </tr>\n",
       "    <tr>\n",
       "      <th>3</th>\n",
       "      <td>3</td>\n",
       "      <td>2018-09-20</td>\n",
       "      <td>00007d2de826758b65a93dd24ce629ed66842531df6699...</td>\n",
       "      <td>685687003</td>\n",
       "      <td>0.016932</td>\n",
       "      <td>2</td>\n",
       "    </tr>\n",
       "    <tr>\n",
       "      <th>4</th>\n",
       "      <td>4</td>\n",
       "      <td>2018-09-20</td>\n",
       "      <td>00007d2de826758b65a93dd24ce629ed66842531df6699...</td>\n",
       "      <td>685687004</td>\n",
       "      <td>0.016932</td>\n",
       "      <td>2</td>\n",
       "    </tr>\n",
       "  </tbody>\n",
       "</table>\n",
       "</div>"
      ],
      "text/plain": [
       "   Unnamed: 0       t_dat                                        customer_id  \\\n",
       "0           0  2018-09-20  000058a12d5b43e67d225668fa1f8d618c13dc232df0ca...   \n",
       "1           1  2018-09-20  000058a12d5b43e67d225668fa1f8d618c13dc232df0ca...   \n",
       "2           2  2018-09-20  00007d2de826758b65a93dd24ce629ed66842531df6699...   \n",
       "3           3  2018-09-20  00007d2de826758b65a93dd24ce629ed66842531df6699...   \n",
       "4           4  2018-09-20  00007d2de826758b65a93dd24ce629ed66842531df6699...   \n",
       "\n",
       "   article_id     price  sales_channel_id  \n",
       "0   663713001  0.050831                 2  \n",
       "1   541518023  0.030492                 2  \n",
       "2   505221004  0.015237                 2  \n",
       "3   685687003  0.016932                 2  \n",
       "4   685687004  0.016932                 2  "
      ]
     },
     "execution_count": 5,
     "metadata": {},
     "output_type": "execute_result"
    }
   ],
   "source": [
    "transactions.head()"
   ]
  },
  {
   "cell_type": "code",
   "execution_count": 6,
   "id": "e68dc6cf-58fa-4275-95ce-80ef13501833",
   "metadata": {},
   "outputs": [],
   "source": [
    "# clean up the dataframe a bit\n",
    "transactions.drop(columns='Unnamed: 0', inplace=True)"
   ]
  },
  {
   "cell_type": "code",
   "execution_count": 7,
   "id": "08a9c372-72bc-44ae-9cc9-ca06923f3583",
   "metadata": {},
   "outputs": [
    {
     "data": {
      "text/html": [
       "<div>\n",
       "<style scoped>\n",
       "    .dataframe tbody tr th:only-of-type {\n",
       "        vertical-align: middle;\n",
       "    }\n",
       "\n",
       "    .dataframe tbody tr th {\n",
       "        vertical-align: top;\n",
       "    }\n",
       "\n",
       "    .dataframe thead th {\n",
       "        text-align: right;\n",
       "    }\n",
       "</style>\n",
       "<table border=\"1\" class=\"dataframe\">\n",
       "  <thead>\n",
       "    <tr style=\"text-align: right;\">\n",
       "      <th></th>\n",
       "      <th>t_dat</th>\n",
       "      <th>customer_id</th>\n",
       "      <th>article_id</th>\n",
       "      <th>price</th>\n",
       "      <th>sales_channel_id</th>\n",
       "    </tr>\n",
       "  </thead>\n",
       "  <tbody>\n",
       "    <tr>\n",
       "      <th>0</th>\n",
       "      <td>2018-09-20</td>\n",
       "      <td>000058a12d5b43e67d225668fa1f8d618c13dc232df0ca...</td>\n",
       "      <td>663713001</td>\n",
       "      <td>0.050831</td>\n",
       "      <td>2</td>\n",
       "    </tr>\n",
       "    <tr>\n",
       "      <th>1</th>\n",
       "      <td>2018-09-20</td>\n",
       "      <td>000058a12d5b43e67d225668fa1f8d618c13dc232df0ca...</td>\n",
       "      <td>541518023</td>\n",
       "      <td>0.030492</td>\n",
       "      <td>2</td>\n",
       "    </tr>\n",
       "    <tr>\n",
       "      <th>2</th>\n",
       "      <td>2018-09-20</td>\n",
       "      <td>00007d2de826758b65a93dd24ce629ed66842531df6699...</td>\n",
       "      <td>505221004</td>\n",
       "      <td>0.015237</td>\n",
       "      <td>2</td>\n",
       "    </tr>\n",
       "    <tr>\n",
       "      <th>3</th>\n",
       "      <td>2018-09-20</td>\n",
       "      <td>00007d2de826758b65a93dd24ce629ed66842531df6699...</td>\n",
       "      <td>685687003</td>\n",
       "      <td>0.016932</td>\n",
       "      <td>2</td>\n",
       "    </tr>\n",
       "    <tr>\n",
       "      <th>4</th>\n",
       "      <td>2018-09-20</td>\n",
       "      <td>00007d2de826758b65a93dd24ce629ed66842531df6699...</td>\n",
       "      <td>685687004</td>\n",
       "      <td>0.016932</td>\n",
       "      <td>2</td>\n",
       "    </tr>\n",
       "  </tbody>\n",
       "</table>\n",
       "</div>"
      ],
      "text/plain": [
       "        t_dat                                        customer_id  article_id  \\\n",
       "0  2018-09-20  000058a12d5b43e67d225668fa1f8d618c13dc232df0ca...   663713001   \n",
       "1  2018-09-20  000058a12d5b43e67d225668fa1f8d618c13dc232df0ca...   541518023   \n",
       "2  2018-09-20  00007d2de826758b65a93dd24ce629ed66842531df6699...   505221004   \n",
       "3  2018-09-20  00007d2de826758b65a93dd24ce629ed66842531df6699...   685687003   \n",
       "4  2018-09-20  00007d2de826758b65a93dd24ce629ed66842531df6699...   685687004   \n",
       "\n",
       "      price  sales_channel_id  \n",
       "0  0.050831                 2  \n",
       "1  0.030492                 2  \n",
       "2  0.015237                 2  \n",
       "3  0.016932                 2  \n",
       "4  0.016932                 2  "
      ]
     },
     "execution_count": 7,
     "metadata": {},
     "output_type": "execute_result"
    }
   ],
   "source": [
    "transactions.head()"
   ]
  },
  {
   "cell_type": "code",
   "execution_count": 8,
   "id": "9be270e5-5432-4f23-ad60-8a734b4d7a52",
   "metadata": {},
   "outputs": [],
   "source": [
    "transactions = transactions[['t_dat', 'customer_id', 'article_id']]"
   ]
  },
  {
   "cell_type": "code",
   "execution_count": 9,
   "id": "b240310a-1656-4cbf-90ae-518f61f47361",
   "metadata": {},
   "outputs": [
    {
     "data": {
      "text/html": [
       "<div>\n",
       "<style scoped>\n",
       "    .dataframe tbody tr th:only-of-type {\n",
       "        vertical-align: middle;\n",
       "    }\n",
       "\n",
       "    .dataframe tbody tr th {\n",
       "        vertical-align: top;\n",
       "    }\n",
       "\n",
       "    .dataframe thead th {\n",
       "        text-align: right;\n",
       "    }\n",
       "</style>\n",
       "<table border=\"1\" class=\"dataframe\">\n",
       "  <thead>\n",
       "    <tr style=\"text-align: right;\">\n",
       "      <th></th>\n",
       "      <th>t_dat</th>\n",
       "      <th>customer_id</th>\n",
       "      <th>article_id</th>\n",
       "    </tr>\n",
       "  </thead>\n",
       "  <tbody>\n",
       "    <tr>\n",
       "      <th>0</th>\n",
       "      <td>2018-09-20</td>\n",
       "      <td>000058a12d5b43e67d225668fa1f8d618c13dc232df0ca...</td>\n",
       "      <td>663713001</td>\n",
       "    </tr>\n",
       "    <tr>\n",
       "      <th>1</th>\n",
       "      <td>2018-09-20</td>\n",
       "      <td>000058a12d5b43e67d225668fa1f8d618c13dc232df0ca...</td>\n",
       "      <td>541518023</td>\n",
       "    </tr>\n",
       "    <tr>\n",
       "      <th>2</th>\n",
       "      <td>2018-09-20</td>\n",
       "      <td>00007d2de826758b65a93dd24ce629ed66842531df6699...</td>\n",
       "      <td>505221004</td>\n",
       "    </tr>\n",
       "    <tr>\n",
       "      <th>3</th>\n",
       "      <td>2018-09-20</td>\n",
       "      <td>00007d2de826758b65a93dd24ce629ed66842531df6699...</td>\n",
       "      <td>685687003</td>\n",
       "    </tr>\n",
       "    <tr>\n",
       "      <th>4</th>\n",
       "      <td>2018-09-20</td>\n",
       "      <td>00007d2de826758b65a93dd24ce629ed66842531df6699...</td>\n",
       "      <td>685687004</td>\n",
       "    </tr>\n",
       "  </tbody>\n",
       "</table>\n",
       "</div>"
      ],
      "text/plain": [
       "        t_dat                                        customer_id  article_id\n",
       "0  2018-09-20  000058a12d5b43e67d225668fa1f8d618c13dc232df0ca...   663713001\n",
       "1  2018-09-20  000058a12d5b43e67d225668fa1f8d618c13dc232df0ca...   541518023\n",
       "2  2018-09-20  00007d2de826758b65a93dd24ce629ed66842531df6699...   505221004\n",
       "3  2018-09-20  00007d2de826758b65a93dd24ce629ed66842531df6699...   685687003\n",
       "4  2018-09-20  00007d2de826758b65a93dd24ce629ed66842531df6699...   685687004"
      ]
     },
     "execution_count": 9,
     "metadata": {},
     "output_type": "execute_result"
    }
   ],
   "source": [
    "transactions.head()"
   ]
  },
  {
   "cell_type": "markdown",
   "id": "103cbb1b-71a5-4b37-9828-73a09016b3eb",
   "metadata": {},
   "source": [
    "- Next we'll merge the dataframes so that we have transactions by datetime and product code."
   ]
  },
  {
   "cell_type": "code",
   "execution_count": 10,
   "id": "0cc8f3bd-7799-45d2-b0d9-c3d2896ebaed",
   "metadata": {},
   "outputs": [],
   "source": [
    "transactions = transactions.merge(right=articles[['article_id', 'product_code']], how='left', on='article_id')"
   ]
  },
  {
   "cell_type": "code",
   "execution_count": 11,
   "id": "9d72ffc5-dcd8-4c39-b358-657731e15080",
   "metadata": {},
   "outputs": [],
   "source": [
    "transactions = transactions[['t_dat', 'product_code']]"
   ]
  },
  {
   "cell_type": "code",
   "execution_count": 12,
   "id": "fb0d0928-00e2-4c6b-846a-e413fadd2b0f",
   "metadata": {},
   "outputs": [
    {
     "data": {
      "text/html": [
       "<div>\n",
       "<style scoped>\n",
       "    .dataframe tbody tr th:only-of-type {\n",
       "        vertical-align: middle;\n",
       "    }\n",
       "\n",
       "    .dataframe tbody tr th {\n",
       "        vertical-align: top;\n",
       "    }\n",
       "\n",
       "    .dataframe thead th {\n",
       "        text-align: right;\n",
       "    }\n",
       "</style>\n",
       "<table border=\"1\" class=\"dataframe\">\n",
       "  <thead>\n",
       "    <tr style=\"text-align: right;\">\n",
       "      <th></th>\n",
       "      <th>t_dat</th>\n",
       "      <th>product_code</th>\n",
       "    </tr>\n",
       "  </thead>\n",
       "  <tbody>\n",
       "    <tr>\n",
       "      <th>31651673</th>\n",
       "      <td>2020-09-22</td>\n",
       "      <td>929511</td>\n",
       "    </tr>\n",
       "    <tr>\n",
       "      <th>31651674</th>\n",
       "      <td>2020-09-22</td>\n",
       "      <td>891322</td>\n",
       "    </tr>\n",
       "    <tr>\n",
       "      <th>31651675</th>\n",
       "      <td>2020-09-22</td>\n",
       "      <td>918325</td>\n",
       "    </tr>\n",
       "    <tr>\n",
       "      <th>31651676</th>\n",
       "      <td>2020-09-22</td>\n",
       "      <td>833459</td>\n",
       "    </tr>\n",
       "    <tr>\n",
       "      <th>31651677</th>\n",
       "      <td>2020-09-22</td>\n",
       "      <td>898573</td>\n",
       "    </tr>\n",
       "  </tbody>\n",
       "</table>\n",
       "</div>"
      ],
      "text/plain": [
       "               t_dat  product_code\n",
       "31651673  2020-09-22        929511\n",
       "31651674  2020-09-22        891322\n",
       "31651675  2020-09-22        918325\n",
       "31651676  2020-09-22        833459\n",
       "31651677  2020-09-22        898573"
      ]
     },
     "execution_count": 12,
     "metadata": {},
     "output_type": "execute_result"
    }
   ],
   "source": [
    "transactions.tail()"
   ]
  },
  {
   "cell_type": "markdown",
   "id": "28f0e97a-b5c0-4f54-a396-e6dda2c503ef",
   "metadata": {},
   "source": [
    "- Now we can filter transactions by date, like so:"
   ]
  },
  {
   "cell_type": "code",
   "execution_count": 13,
   "id": "b62855d2-0109-4e07-8b77-061a3e2b81e8",
   "metadata": {},
   "outputs": [],
   "source": [
    "transactions = transactions[ transactions['t_dat'] > '2019-08']"
   ]
  },
  {
   "cell_type": "code",
   "execution_count": 14,
   "id": "638445bd-171a-43e5-a286-e3b4d80350b8",
   "metadata": {},
   "outputs": [
    {
     "data": {
      "text/html": [
       "<div>\n",
       "<style scoped>\n",
       "    .dataframe tbody tr th:only-of-type {\n",
       "        vertical-align: middle;\n",
       "    }\n",
       "\n",
       "    .dataframe tbody tr th {\n",
       "        vertical-align: top;\n",
       "    }\n",
       "\n",
       "    .dataframe thead th {\n",
       "        text-align: right;\n",
       "    }\n",
       "</style>\n",
       "<table border=\"1\" class=\"dataframe\">\n",
       "  <thead>\n",
       "    <tr style=\"text-align: right;\">\n",
       "      <th></th>\n",
       "      <th>t_dat</th>\n",
       "      <th>product_code</th>\n",
       "    </tr>\n",
       "  </thead>\n",
       "  <tbody>\n",
       "    <tr>\n",
       "      <th>14782429</th>\n",
       "      <td>2019-08-01</td>\n",
       "      <td>715624</td>\n",
       "    </tr>\n",
       "    <tr>\n",
       "      <th>14782430</th>\n",
       "      <td>2019-08-01</td>\n",
       "      <td>803250</td>\n",
       "    </tr>\n",
       "    <tr>\n",
       "      <th>14782431</th>\n",
       "      <td>2019-08-01</td>\n",
       "      <td>787883</td>\n",
       "    </tr>\n",
       "    <tr>\n",
       "      <th>14782432</th>\n",
       "      <td>2019-08-01</td>\n",
       "      <td>787883</td>\n",
       "    </tr>\n",
       "    <tr>\n",
       "      <th>14782433</th>\n",
       "      <td>2019-08-01</td>\n",
       "      <td>733097</td>\n",
       "    </tr>\n",
       "    <tr>\n",
       "      <th>...</th>\n",
       "      <td>...</td>\n",
       "      <td>...</td>\n",
       "    </tr>\n",
       "    <tr>\n",
       "      <th>31651673</th>\n",
       "      <td>2020-09-22</td>\n",
       "      <td>929511</td>\n",
       "    </tr>\n",
       "    <tr>\n",
       "      <th>31651674</th>\n",
       "      <td>2020-09-22</td>\n",
       "      <td>891322</td>\n",
       "    </tr>\n",
       "    <tr>\n",
       "      <th>31651675</th>\n",
       "      <td>2020-09-22</td>\n",
       "      <td>918325</td>\n",
       "    </tr>\n",
       "    <tr>\n",
       "      <th>31651676</th>\n",
       "      <td>2020-09-22</td>\n",
       "      <td>833459</td>\n",
       "    </tr>\n",
       "    <tr>\n",
       "      <th>31651677</th>\n",
       "      <td>2020-09-22</td>\n",
       "      <td>898573</td>\n",
       "    </tr>\n",
       "  </tbody>\n",
       "</table>\n",
       "<p>16869249 rows × 2 columns</p>\n",
       "</div>"
      ],
      "text/plain": [
       "               t_dat  product_code\n",
       "14782429  2019-08-01        715624\n",
       "14782430  2019-08-01        803250\n",
       "14782431  2019-08-01        787883\n",
       "14782432  2019-08-01        787883\n",
       "14782433  2019-08-01        733097\n",
       "...              ...           ...\n",
       "31651673  2020-09-22        929511\n",
       "31651674  2020-09-22        891322\n",
       "31651675  2020-09-22        918325\n",
       "31651676  2020-09-22        833459\n",
       "31651677  2020-09-22        898573\n",
       "\n",
       "[16869249 rows x 2 columns]"
      ]
     },
     "execution_count": 14,
     "metadata": {},
     "output_type": "execute_result"
    }
   ],
   "source": [
    "transactions"
   ]
  },
  {
   "cell_type": "code",
   "execution_count": 15,
   "id": "ef40abf8-bb40-40d1-b057-0877cd553fbb",
   "metadata": {},
   "outputs": [
    {
     "data": {
      "text/html": [
       "<div>\n",
       "<style scoped>\n",
       "    .dataframe tbody tr th:only-of-type {\n",
       "        vertical-align: middle;\n",
       "    }\n",
       "\n",
       "    .dataframe tbody tr th {\n",
       "        vertical-align: top;\n",
       "    }\n",
       "\n",
       "    .dataframe thead th {\n",
       "        text-align: right;\n",
       "    }\n",
       "</style>\n",
       "<table border=\"1\" class=\"dataframe\">\n",
       "  <thead>\n",
       "    <tr style=\"text-align: right;\">\n",
       "      <th></th>\n",
       "      <th>t_dat</th>\n",
       "      <th>product_code</th>\n",
       "    </tr>\n",
       "  </thead>\n",
       "  <tbody>\n",
       "    <tr>\n",
       "      <th>16031743</th>\n",
       "      <td>2019-09-01</td>\n",
       "      <td>727880</td>\n",
       "    </tr>\n",
       "    <tr>\n",
       "      <th>16031744</th>\n",
       "      <td>2019-09-01</td>\n",
       "      <td>767869</td>\n",
       "    </tr>\n",
       "    <tr>\n",
       "      <th>16031745</th>\n",
       "      <td>2019-09-01</td>\n",
       "      <td>717490</td>\n",
       "    </tr>\n",
       "    <tr>\n",
       "      <th>16031746</th>\n",
       "      <td>2019-09-01</td>\n",
       "      <td>547780</td>\n",
       "    </tr>\n",
       "    <tr>\n",
       "      <th>16031747</th>\n",
       "      <td>2019-09-01</td>\n",
       "      <td>803969</td>\n",
       "    </tr>\n",
       "    <tr>\n",
       "      <th>...</th>\n",
       "      <td>...</td>\n",
       "      <td>...</td>\n",
       "    </tr>\n",
       "    <tr>\n",
       "      <th>17256883</th>\n",
       "      <td>2019-09-30</td>\n",
       "      <td>764998</td>\n",
       "    </tr>\n",
       "    <tr>\n",
       "      <th>17256884</th>\n",
       "      <td>2019-09-30</td>\n",
       "      <td>683662</td>\n",
       "    </tr>\n",
       "    <tr>\n",
       "      <th>17256885</th>\n",
       "      <td>2019-09-30</td>\n",
       "      <td>595697</td>\n",
       "    </tr>\n",
       "    <tr>\n",
       "      <th>17256886</th>\n",
       "      <td>2019-09-30</td>\n",
       "      <td>160442</td>\n",
       "    </tr>\n",
       "    <tr>\n",
       "      <th>17256887</th>\n",
       "      <td>2019-09-30</td>\n",
       "      <td>266875</td>\n",
       "    </tr>\n",
       "  </tbody>\n",
       "</table>\n",
       "<p>1225145 rows × 2 columns</p>\n",
       "</div>"
      ],
      "text/plain": [
       "               t_dat  product_code\n",
       "16031743  2019-09-01        727880\n",
       "16031744  2019-09-01        767869\n",
       "16031745  2019-09-01        717490\n",
       "16031746  2019-09-01        547780\n",
       "16031747  2019-09-01        803969\n",
       "...              ...           ...\n",
       "17256883  2019-09-30        764998\n",
       "17256884  2019-09-30        683662\n",
       "17256885  2019-09-30        595697\n",
       "17256886  2019-09-30        160442\n",
       "17256887  2019-09-30        266875\n",
       "\n",
       "[1225145 rows x 2 columns]"
      ]
     },
     "execution_count": 15,
     "metadata": {},
     "output_type": "execute_result"
    }
   ],
   "source": [
    "transactions[ (transactions['t_dat'] > '2019-09') & (transactions['t_dat'] < '2019-10')]"
   ]
  },
  {
   "cell_type": "markdown",
   "id": "9ea0fc9c-1c96-4044-839a-ef16fd39dfb5",
   "metadata": {},
   "source": [
    "- We now loop through each month, slicing the dataframe by month and saving each slice to a csv."
   ]
  },
  {
   "cell_type": "code",
   "execution_count": 16,
   "id": "f4e3487b-8fa6-44f3-91f3-d26b2784b148",
   "metadata": {},
   "outputs": [],
   "source": [
    "def get_transactions(df, datetime_col, start, end, filepath='temp.csv'):\n",
    "    df[ (df[datetime_col] > start) & (df[datetime_col] < end) ].to_csv(filepath, index=False)\n",
    "    "
   ]
  },
  {
   "cell_type": "code",
   "execution_count": 17,
   "id": "2b55dcc6-e2b1-4553-bea1-414e2c2535c8",
   "metadata": {},
   "outputs": [],
   "source": [
    "get_transactions(transactions, datetime_col = 't_dat', start= '2019-08', end='2019-09',filepath='../data/transactions_2019-08.csv') "
   ]
  },
  {
   "cell_type": "code",
   "execution_count": 18,
   "id": "dd0f9a57-a705-4462-ba60-b492acafc474",
   "metadata": {},
   "outputs": [],
   "source": [
    "months = ['2019-09', '2019-10', '2019-11', '2019-12', '2020-01', '2020-02',\n",
    "          '2020-03', '2020-04', '2020-05', '2020-06', '2020-07', '2020-08', '2020-09']"
   ]
  },
  {
   "cell_type": "code",
   "execution_count": 19,
   "id": "a75b7447-3a80-458a-9d47-22aa73bdf6ca",
   "metadata": {},
   "outputs": [],
   "source": [
    "for i in range(len(months)-1):\n",
    "    get_transactions(transactions, datetime_col = 't_dat', start=months[i], end=months[i+1], filepath = '../data/transactions_'+months[i]+'.csv')"
   ]
  },
  {
   "cell_type": "code",
   "execution_count": 20,
   "id": "b1ff0c06-0b9e-475d-8ddd-aa098519d873",
   "metadata": {},
   "outputs": [
    {
     "data": {
      "text/plain": [
       "str"
      ]
     },
     "execution_count": 20,
     "metadata": {},
     "output_type": "execute_result"
    }
   ],
   "source": [
    "type(current_month)"
   ]
  },
  {
   "cell_type": "code",
   "execution_count": 21,
   "id": "d6888674-1acc-4313-9251-3dca4937695b",
   "metadata": {},
   "outputs": [
    {
     "data": {
      "text/plain": [
       "product_code\n",
       "706016    125284\n",
       "562245     80168\n",
       "599580     78703\n",
       "751471     61971\n",
       "717490     53158\n",
       "783346     51563\n",
       "720125     49894\n",
       "759871     48815\n",
       "695632     45024\n",
       "778064     44376\n",
       "dtype: int64"
      ]
     },
     "execution_count": 21,
     "metadata": {},
     "output_type": "execute_result"
    }
   ],
   "source": [
    "transactions.value_counts(subset='product_code')[0:10]"
   ]
  },
  {
   "cell_type": "code",
   "execution_count": 22,
   "id": "34de9b50-df5f-4ad9-bb32-d0a409c396e1",
   "metadata": {},
   "outputs": [
    {
     "data": {
      "text/plain": [
       "706016"
      ]
     },
     "execution_count": 22,
     "metadata": {},
     "output_type": "execute_result"
    }
   ],
   "source": [
    "list(transactions.value_counts(subset='product_code').index)[0]"
   ]
  },
  {
   "cell_type": "markdown",
   "id": "017e7297-2453-465f-ae27-abfaea0a7de7",
   "metadata": {},
   "source": [
    "- Now we can filter the data set by time intervals to get a \"Top Sellers\" list by Month, Week, and even Day."
   ]
  },
  {
   "cell_type": "code",
   "execution_count": 23,
   "id": "2c6a9883-7621-4201-8f80-cc79b1c7805f",
   "metadata": {},
   "outputs": [
    {
     "data": {
      "text/plain": [
       "product_code\n",
       "599580    13533\n",
       "684209     9290\n",
       "688537     8019\n",
       "854683     6825\n",
       "706016     6592\n",
       "554598     6358\n",
       "854677     6168\n",
       "776237     6081\n",
       "685816     6063\n",
       "759871     6042\n",
       "dtype: int64"
      ]
     },
     "execution_count": 23,
     "metadata": {},
     "output_type": "execute_result"
    }
   ],
   "source": [
    "transactions[ (transactions['t_dat'] > '2020-05') & (transactions['t_dat'] < '2020-06') ].value_counts(subset='product_code')[0:10]"
   ]
  },
  {
   "cell_type": "code",
   "execution_count": null,
   "id": "3e4bc477-d022-4c06-814d-677b354aadc6",
   "metadata": {},
   "outputs": [],
   "source": []
  }
 ],
 "metadata": {
  "kernelspec": {
   "display_name": "Python 3 (ipykernel)",
   "language": "python",
   "name": "python3"
  },
  "language_info": {
   "codemirror_mode": {
    "name": "ipython",
    "version": 3
   },
   "file_extension": ".py",
   "mimetype": "text/x-python",
   "name": "python",
   "nbconvert_exporter": "python",
   "pygments_lexer": "ipython3",
   "version": "3.9.12"
  }
 },
 "nbformat": 4,
 "nbformat_minor": 5
}
