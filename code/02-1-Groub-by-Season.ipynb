{
 "cells": [
  {
   "cell_type": "markdown",
   "id": "17d6ae44-568d-4328-a1b1-5d1315c1c21a",
   "metadata": {},
   "source": [
    "# 02-1 Group By Season"
   ]
  },
  {
   "cell_type": "markdown",
   "id": "acccd198-8058-496a-82b7-36bfc18dad82",
   "metadata": {},
   "source": [
    "In this notebook, we split the transactions along 3 month intervals which constitute a season. This will allow us to create a recommender based on top sellers for each season, which makes sense for clothing items as the weather and seasonal fashion trends affect sales and consumer tastes.\n",
    "\n",
    "We use the prepared data to implement a Seasonal Popularity based recommender system on our web application."
   ]
  },
  {
   "cell_type": "code",
   "execution_count": 2,
   "id": "2fa85f07-062b-4bf0-a804-6eaa43d27064",
   "metadata": {},
   "outputs": [],
   "source": [
    "import pandas as pd\n",
    "import numpy as np"
   ]
  },
  {
   "cell_type": "code",
   "execution_count": 4,
   "id": "53627c16-afa7-4bf4-8354-bf4968ad896b",
   "metadata": {},
   "outputs": [],
   "source": [
    "def get_season(months):\n",
    "    filepath = '../data/transactions_'\n",
    "    dfs = [ pd.read_csv(filepath+month+'.csv') for month in months]\n",
    "    \n",
    "    return pd.concat(dfs)"
   ]
  },
  {
   "cell_type": "code",
   "execution_count": 29,
   "id": "356664e9-3ef2-4f91-b0eb-7d21e377f8f8",
   "metadata": {},
   "outputs": [
    {
     "data": {
      "text/plain": [
       "product_code\n",
       "706016    31309\n",
       "562245    21288\n",
       "673677    17993\n",
       "660599    16046\n",
       "695632    15863\n",
       "          ...  \n",
       "590717        1\n",
       "613547        1\n",
       "708424        1\n",
       "742485        1\n",
       "691487        1\n",
       "Length: 21391, dtype: int64"
      ]
     },
     "execution_count": 29,
     "metadata": {},
     "output_type": "execute_result"
    }
   ],
   "source": [
    "fall_months = ['2019-08', '2019-09', '2019-10']\n",
    "\n",
    "# get_season(fall_months).value_counts(subset='product_code').reset_index()[['product_code']].to_csv('../data/top_sellers_fall.csv', index=False)\n",
    "get_season(fall_months).value_counts(subset='product_code')"
   ]
  },
  {
   "cell_type": "code",
   "execution_count": 24,
   "id": "dac07d56-e031-4f0e-ae92-4a2c8d7fb589",
   "metadata": {},
   "outputs": [
    {
     "data": {
      "text/plain": [
       "product_code\n",
       "706016    33184\n",
       "562245    24208\n",
       "695632    15088\n",
       "573085    14310\n",
       "679853    13920\n",
       "          ...  \n",
       "717539        1\n",
       "639591        1\n",
       "800826        1\n",
       "639460        1\n",
       "732374        1\n",
       "Length: 20955, dtype: int64"
      ]
     },
     "execution_count": 24,
     "metadata": {},
     "output_type": "execute_result"
    }
   ],
   "source": [
    "winter_months = ['2019-11', '2019-12', '2020-01']\n",
    "\n",
    "# get_season(winter_months).value_counts(subset='product_code').reset_index()[['product_code']].to_csv('../data/top_sellers_winter.csv')\n",
    "\n",
    "get_season(winter_months).value_counts(subset='product_code')"
   ]
  },
  {
   "cell_type": "code",
   "execution_count": 25,
   "id": "e03b89b8-760e-409f-a515-df1efbbbd57d",
   "metadata": {},
   "outputs": [
    {
     "data": {
      "text/plain": [
       "product_code\n",
       "706016    29199\n",
       "599580    24008\n",
       "751471    17928\n",
       "783346    17192\n",
       "562245    14219\n",
       "          ...  \n",
       "744764        1\n",
       "744662        1\n",
       "744457        1\n",
       "744452        1\n",
       "910700        1\n",
       "Length: 20377, dtype: int64"
      ]
     },
     "execution_count": 25,
     "metadata": {},
     "output_type": "execute_result"
    }
   ],
   "source": [
    "spring_months = ['2020-02', '2020-03', '2020-04']\n",
    "\n",
    "# get_season(spring_months).value_counts(subset='product_code').reset_index()[['product_code']].to_csv('../data/top_sellers_spring.csv')\n",
    "\n",
    "get_season(spring_months).value_counts(subset='product_code')"
   ]
  },
  {
   "cell_type": "code",
   "execution_count": 20,
   "id": "6da39bf1-b1ae-44c1-8345-a2bf9b767259",
   "metadata": {},
   "outputs": [],
   "source": [
    "summer_months = ['2020-05', '2020-06', '2020-07']\n",
    "\n",
    "get_season(summer_months).value_counts(subset='product_code').reset_index()[['product_code']].to_csv('../data/top_sellers_summer.csv')"
   ]
  },
  {
   "cell_type": "code",
   "execution_count": null,
   "id": "f03fe2f1-9119-4bee-9eca-f3c95cfb4e48",
   "metadata": {},
   "outputs": [],
   "source": []
  }
 ],
 "metadata": {
  "kernelspec": {
   "display_name": "Python 3 (ipykernel)",
   "language": "python",
   "name": "python3"
  },
  "language_info": {
   "codemirror_mode": {
    "name": "ipython",
    "version": 3
   },
   "file_extension": ".py",
   "mimetype": "text/x-python",
   "name": "python",
   "nbconvert_exporter": "python",
   "pygments_lexer": "ipython3",
   "version": "3.9.12"
  }
 },
 "nbformat": 4,
 "nbformat_minor": 5
}
