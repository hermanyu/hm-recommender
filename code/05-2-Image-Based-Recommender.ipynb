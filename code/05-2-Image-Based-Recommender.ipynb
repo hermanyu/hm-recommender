{
 "cells": [
  {
   "cell_type": "markdown",
   "id": "49f42488-09fa-4cac-aade-01abdabb49d9",
   "metadata": {},
   "source": [
    "# 05-2 Image Based Recommender"
   ]
  },
  {
   "cell_type": "markdown",
   "id": "705db711-e1b4-4022-8f99-bae2af36df81",
   "metadata": {},
   "source": [
    "In our final notebook, we demonstrate one more recommender system using image based data. The idea is:\n",
    "1. Encode the images of our items into a latent vector.\n",
    "2. Obtain a query image from the user. Encode this query image into a latent vector.\n",
    "3. Compare the query vector against our inventory of latent vectors. Return the ones most similar.\n",
    "\n",
    "Because of the size of the dataset, we restrict the scope of this recommender to one specific type of clothing: **dresses**."
   ]
  },
  {
   "cell_type": "code",
   "execution_count": 1,
   "id": "7b21ea60-d4ef-40ce-9527-0e1755f72556",
   "metadata": {},
   "outputs": [],
   "source": [
    "from torchvision.io import read_image\n",
    "from torchvision import transforms\n",
    "from torch.utils.data import Dataset, DataLoader\n",
    "import torch\n",
    "import torch.nn as nn\n",
    "import torchvision\n",
    "from torchvision.utils import save_image\n",
    "\n",
    "import os\n",
    "import pandas as pd\n",
    "import numpy as np\n",
    "import matplotlib.pyplot as plt\n",
    "import matplotlib.image as mpimg\n",
    "\n",
    "from sklearn.metrics.pairwise import cosine_similarity\n",
    "\n",
    "import joblib"
   ]
  },
  {
   "cell_type": "code",
   "execution_count": 3,
   "id": "2c74e41c-1d1a-4bd9-8479-7b695393dda9",
   "metadata": {},
   "outputs": [],
   "source": [
    "articles = pd.read_csv('../data/articles.csv')"
   ]
  },
  {
   "cell_type": "code",
   "execution_count": 4,
   "id": "eb795d07-f1e9-4dfd-a148-6450ad40f8cb",
   "metadata": {},
   "outputs": [
    {
     "data": {
      "text/html": [
       "<div>\n",
       "<style scoped>\n",
       "    .dataframe tbody tr th:only-of-type {\n",
       "        vertical-align: middle;\n",
       "    }\n",
       "\n",
       "    .dataframe tbody tr th {\n",
       "        vertical-align: top;\n",
       "    }\n",
       "\n",
       "    .dataframe thead th {\n",
       "        text-align: right;\n",
       "    }\n",
       "</style>\n",
       "<table border=\"1\" class=\"dataframe\">\n",
       "  <thead>\n",
       "    <tr style=\"text-align: right;\">\n",
       "      <th></th>\n",
       "      <th>article_id</th>\n",
       "      <th>product_code</th>\n",
       "      <th>prod_name</th>\n",
       "      <th>product_type_no</th>\n",
       "      <th>product_type_name</th>\n",
       "      <th>product_group_name</th>\n",
       "      <th>graphical_appearance_no</th>\n",
       "      <th>graphical_appearance_name</th>\n",
       "      <th>colour_group_code</th>\n",
       "      <th>colour_group_name</th>\n",
       "      <th>...</th>\n",
       "      <th>department_name</th>\n",
       "      <th>index_code</th>\n",
       "      <th>index_name</th>\n",
       "      <th>index_group_no</th>\n",
       "      <th>index_group_name</th>\n",
       "      <th>section_no</th>\n",
       "      <th>section_name</th>\n",
       "      <th>garment_group_no</th>\n",
       "      <th>garment_group_name</th>\n",
       "      <th>detail_desc</th>\n",
       "    </tr>\n",
       "  </thead>\n",
       "  <tbody>\n",
       "    <tr>\n",
       "      <th>0</th>\n",
       "      <td>108775015</td>\n",
       "      <td>108775</td>\n",
       "      <td>Strap top</td>\n",
       "      <td>253</td>\n",
       "      <td>Vest top</td>\n",
       "      <td>Garment Upper body</td>\n",
       "      <td>1010016</td>\n",
       "      <td>Solid</td>\n",
       "      <td>9</td>\n",
       "      <td>Black</td>\n",
       "      <td>...</td>\n",
       "      <td>Jersey Basic</td>\n",
       "      <td>A</td>\n",
       "      <td>Ladieswear</td>\n",
       "      <td>1</td>\n",
       "      <td>Ladieswear</td>\n",
       "      <td>16</td>\n",
       "      <td>Womens Everyday Basics</td>\n",
       "      <td>1002</td>\n",
       "      <td>Jersey Basic</td>\n",
       "      <td>Jersey top with narrow shoulder straps.</td>\n",
       "    </tr>\n",
       "    <tr>\n",
       "      <th>1</th>\n",
       "      <td>108775044</td>\n",
       "      <td>108775</td>\n",
       "      <td>Strap top</td>\n",
       "      <td>253</td>\n",
       "      <td>Vest top</td>\n",
       "      <td>Garment Upper body</td>\n",
       "      <td>1010016</td>\n",
       "      <td>Solid</td>\n",
       "      <td>10</td>\n",
       "      <td>White</td>\n",
       "      <td>...</td>\n",
       "      <td>Jersey Basic</td>\n",
       "      <td>A</td>\n",
       "      <td>Ladieswear</td>\n",
       "      <td>1</td>\n",
       "      <td>Ladieswear</td>\n",
       "      <td>16</td>\n",
       "      <td>Womens Everyday Basics</td>\n",
       "      <td>1002</td>\n",
       "      <td>Jersey Basic</td>\n",
       "      <td>Jersey top with narrow shoulder straps.</td>\n",
       "    </tr>\n",
       "    <tr>\n",
       "      <th>2</th>\n",
       "      <td>108775051</td>\n",
       "      <td>108775</td>\n",
       "      <td>Strap top (1)</td>\n",
       "      <td>253</td>\n",
       "      <td>Vest top</td>\n",
       "      <td>Garment Upper body</td>\n",
       "      <td>1010017</td>\n",
       "      <td>Stripe</td>\n",
       "      <td>11</td>\n",
       "      <td>Off White</td>\n",
       "      <td>...</td>\n",
       "      <td>Jersey Basic</td>\n",
       "      <td>A</td>\n",
       "      <td>Ladieswear</td>\n",
       "      <td>1</td>\n",
       "      <td>Ladieswear</td>\n",
       "      <td>16</td>\n",
       "      <td>Womens Everyday Basics</td>\n",
       "      <td>1002</td>\n",
       "      <td>Jersey Basic</td>\n",
       "      <td>Jersey top with narrow shoulder straps.</td>\n",
       "    </tr>\n",
       "    <tr>\n",
       "      <th>3</th>\n",
       "      <td>110065001</td>\n",
       "      <td>110065</td>\n",
       "      <td>OP T-shirt (Idro)</td>\n",
       "      <td>306</td>\n",
       "      <td>Bra</td>\n",
       "      <td>Underwear</td>\n",
       "      <td>1010016</td>\n",
       "      <td>Solid</td>\n",
       "      <td>9</td>\n",
       "      <td>Black</td>\n",
       "      <td>...</td>\n",
       "      <td>Clean Lingerie</td>\n",
       "      <td>B</td>\n",
       "      <td>Lingeries/Tights</td>\n",
       "      <td>1</td>\n",
       "      <td>Ladieswear</td>\n",
       "      <td>61</td>\n",
       "      <td>Womens Lingerie</td>\n",
       "      <td>1017</td>\n",
       "      <td>Under-, Nightwear</td>\n",
       "      <td>Microfibre T-shirt bra with underwired, moulde...</td>\n",
       "    </tr>\n",
       "    <tr>\n",
       "      <th>4</th>\n",
       "      <td>110065002</td>\n",
       "      <td>110065</td>\n",
       "      <td>OP T-shirt (Idro)</td>\n",
       "      <td>306</td>\n",
       "      <td>Bra</td>\n",
       "      <td>Underwear</td>\n",
       "      <td>1010016</td>\n",
       "      <td>Solid</td>\n",
       "      <td>10</td>\n",
       "      <td>White</td>\n",
       "      <td>...</td>\n",
       "      <td>Clean Lingerie</td>\n",
       "      <td>B</td>\n",
       "      <td>Lingeries/Tights</td>\n",
       "      <td>1</td>\n",
       "      <td>Ladieswear</td>\n",
       "      <td>61</td>\n",
       "      <td>Womens Lingerie</td>\n",
       "      <td>1017</td>\n",
       "      <td>Under-, Nightwear</td>\n",
       "      <td>Microfibre T-shirt bra with underwired, moulde...</td>\n",
       "    </tr>\n",
       "  </tbody>\n",
       "</table>\n",
       "<p>5 rows × 25 columns</p>\n",
       "</div>"
      ],
      "text/plain": [
       "   article_id  product_code          prod_name  product_type_no  \\\n",
       "0   108775015        108775          Strap top              253   \n",
       "1   108775044        108775          Strap top              253   \n",
       "2   108775051        108775      Strap top (1)              253   \n",
       "3   110065001        110065  OP T-shirt (Idro)              306   \n",
       "4   110065002        110065  OP T-shirt (Idro)              306   \n",
       "\n",
       "  product_type_name  product_group_name  graphical_appearance_no  \\\n",
       "0          Vest top  Garment Upper body                  1010016   \n",
       "1          Vest top  Garment Upper body                  1010016   \n",
       "2          Vest top  Garment Upper body                  1010017   \n",
       "3               Bra           Underwear                  1010016   \n",
       "4               Bra           Underwear                  1010016   \n",
       "\n",
       "  graphical_appearance_name  colour_group_code colour_group_name  ...  \\\n",
       "0                     Solid                  9             Black  ...   \n",
       "1                     Solid                 10             White  ...   \n",
       "2                    Stripe                 11         Off White  ...   \n",
       "3                     Solid                  9             Black  ...   \n",
       "4                     Solid                 10             White  ...   \n",
       "\n",
       "   department_name index_code        index_name index_group_no  \\\n",
       "0     Jersey Basic          A        Ladieswear              1   \n",
       "1     Jersey Basic          A        Ladieswear              1   \n",
       "2     Jersey Basic          A        Ladieswear              1   \n",
       "3   Clean Lingerie          B  Lingeries/Tights              1   \n",
       "4   Clean Lingerie          B  Lingeries/Tights              1   \n",
       "\n",
       "   index_group_name section_no            section_name garment_group_no  \\\n",
       "0        Ladieswear         16  Womens Everyday Basics             1002   \n",
       "1        Ladieswear         16  Womens Everyday Basics             1002   \n",
       "2        Ladieswear         16  Womens Everyday Basics             1002   \n",
       "3        Ladieswear         61         Womens Lingerie             1017   \n",
       "4        Ladieswear         61         Womens Lingerie             1017   \n",
       "\n",
       "   garment_group_name                                        detail_desc  \n",
       "0        Jersey Basic            Jersey top with narrow shoulder straps.  \n",
       "1        Jersey Basic            Jersey top with narrow shoulder straps.  \n",
       "2        Jersey Basic            Jersey top with narrow shoulder straps.  \n",
       "3   Under-, Nightwear  Microfibre T-shirt bra with underwired, moulde...  \n",
       "4   Under-, Nightwear  Microfibre T-shirt bra with underwired, moulde...  \n",
       "\n",
       "[5 rows x 25 columns]"
      ]
     },
     "execution_count": 4,
     "metadata": {},
     "output_type": "execute_result"
    }
   ],
   "source": [
    "articles.head()"
   ]
  },
  {
   "cell_type": "code",
   "execution_count": 5,
   "id": "592290d9-274a-4182-85fa-79b7dd31e321",
   "metadata": {},
   "outputs": [
    {
     "data": {
      "text/plain": [
       "product_type_name\n",
       "Trousers        11169\n",
       "Dress           10362\n",
       "Sweater          9302\n",
       "T-shirt          7904\n",
       "Top              4155\n",
       "                ...  \n",
       "Bra extender        1\n",
       "Blanket             1\n",
       "Towel               1\n",
       "Wood balls          1\n",
       "Cushion             1\n",
       "Length: 131, dtype: int64"
      ]
     },
     "execution_count": 5,
     "metadata": {},
     "output_type": "execute_result"
    }
   ],
   "source": [
    "articles.value_counts(subset='product_type_name')"
   ]
  },
  {
   "cell_type": "code",
   "execution_count": 6,
   "id": "e18cb11d-9de5-4b4b-be45-3f6a02320fcb",
   "metadata": {},
   "outputs": [
    {
     "data": {
      "text/html": [
       "<div>\n",
       "<style scoped>\n",
       "    .dataframe tbody tr th:only-of-type {\n",
       "        vertical-align: middle;\n",
       "    }\n",
       "\n",
       "    .dataframe tbody tr th {\n",
       "        vertical-align: top;\n",
       "    }\n",
       "\n",
       "    .dataframe thead th {\n",
       "        text-align: right;\n",
       "    }\n",
       "</style>\n",
       "<table border=\"1\" class=\"dataframe\">\n",
       "  <thead>\n",
       "    <tr style=\"text-align: right;\">\n",
       "      <th></th>\n",
       "      <th>article_id</th>\n",
       "      <th>product_code</th>\n",
       "      <th>prod_name</th>\n",
       "      <th>product_type_no</th>\n",
       "      <th>product_type_name</th>\n",
       "      <th>product_group_name</th>\n",
       "      <th>graphical_appearance_no</th>\n",
       "      <th>graphical_appearance_name</th>\n",
       "      <th>colour_group_code</th>\n",
       "      <th>colour_group_name</th>\n",
       "      <th>...</th>\n",
       "      <th>department_name</th>\n",
       "      <th>index_code</th>\n",
       "      <th>index_name</th>\n",
       "      <th>index_group_no</th>\n",
       "      <th>index_group_name</th>\n",
       "      <th>section_no</th>\n",
       "      <th>section_name</th>\n",
       "      <th>garment_group_no</th>\n",
       "      <th>garment_group_name</th>\n",
       "      <th>detail_desc</th>\n",
       "    </tr>\n",
       "  </thead>\n",
       "  <tbody>\n",
       "    <tr>\n",
       "      <th>204</th>\n",
       "      <td>192460006</td>\n",
       "      <td>192460</td>\n",
       "      <td>Knit dress</td>\n",
       "      <td>265</td>\n",
       "      <td>Dress</td>\n",
       "      <td>Garment Full body</td>\n",
       "      <td>1010016</td>\n",
       "      <td>Solid</td>\n",
       "      <td>8</td>\n",
       "      <td>Dark Grey</td>\n",
       "      <td>...</td>\n",
       "      <td>Tops Knitwear DS</td>\n",
       "      <td>D</td>\n",
       "      <td>Divided</td>\n",
       "      <td>2</td>\n",
       "      <td>Divided</td>\n",
       "      <td>58</td>\n",
       "      <td>Divided Selected</td>\n",
       "      <td>1003</td>\n",
       "      <td>Knitwear</td>\n",
       "      <td>Short, fine-knit dress with a hood, waterfall ...</td>\n",
       "    </tr>\n",
       "    <tr>\n",
       "      <th>238</th>\n",
       "      <td>202017055</td>\n",
       "      <td>202017</td>\n",
       "      <td>Rihanna dress</td>\n",
       "      <td>265</td>\n",
       "      <td>Dress</td>\n",
       "      <td>Garment Full body</td>\n",
       "      <td>1010017</td>\n",
       "      <td>Stripe</td>\n",
       "      <td>10</td>\n",
       "      <td>White</td>\n",
       "      <td>...</td>\n",
       "      <td>Jersey Basic</td>\n",
       "      <td>A</td>\n",
       "      <td>Ladieswear</td>\n",
       "      <td>1</td>\n",
       "      <td>Ladieswear</td>\n",
       "      <td>16</td>\n",
       "      <td>Womens Everyday Basics</td>\n",
       "      <td>1002</td>\n",
       "      <td>Jersey Basic</td>\n",
       "      <td>Short-sleeved dress in slub jersey with an ela...</td>\n",
       "    </tr>\n",
       "    <tr>\n",
       "      <th>261</th>\n",
       "      <td>212629004</td>\n",
       "      <td>212629</td>\n",
       "      <td>Alcazar strap dress</td>\n",
       "      <td>265</td>\n",
       "      <td>Dress</td>\n",
       "      <td>Garment Full body</td>\n",
       "      <td>1010016</td>\n",
       "      <td>Solid</td>\n",
       "      <td>9</td>\n",
       "      <td>Black</td>\n",
       "      <td>...</td>\n",
       "      <td>Basic 1</td>\n",
       "      <td>D</td>\n",
       "      <td>Divided</td>\n",
       "      <td>2</td>\n",
       "      <td>Divided</td>\n",
       "      <td>51</td>\n",
       "      <td>Divided Basics</td>\n",
       "      <td>1002</td>\n",
       "      <td>Jersey Basic</td>\n",
       "      <td>Long, sleeveless dress in jersey with narrow s...</td>\n",
       "    </tr>\n",
       "    <tr>\n",
       "      <th>262</th>\n",
       "      <td>212629031</td>\n",
       "      <td>212629</td>\n",
       "      <td>Alcazar strap dress</td>\n",
       "      <td>265</td>\n",
       "      <td>Dress</td>\n",
       "      <td>Garment Full body</td>\n",
       "      <td>1010016</td>\n",
       "      <td>Solid</td>\n",
       "      <td>93</td>\n",
       "      <td>Dark Green</td>\n",
       "      <td>...</td>\n",
       "      <td>Basic 1</td>\n",
       "      <td>D</td>\n",
       "      <td>Divided</td>\n",
       "      <td>2</td>\n",
       "      <td>Divided</td>\n",
       "      <td>51</td>\n",
       "      <td>Divided Basics</td>\n",
       "      <td>1002</td>\n",
       "      <td>Jersey Basic</td>\n",
       "      <td>Long, sleeveless dress in jersey with narrow s...</td>\n",
       "    </tr>\n",
       "    <tr>\n",
       "      <th>263</th>\n",
       "      <td>212629032</td>\n",
       "      <td>212629</td>\n",
       "      <td>Alcazar strap dress</td>\n",
       "      <td>265</td>\n",
       "      <td>Dress</td>\n",
       "      <td>Garment Full body</td>\n",
       "      <td>1010016</td>\n",
       "      <td>Solid</td>\n",
       "      <td>53</td>\n",
       "      <td>Dark Pink</td>\n",
       "      <td>...</td>\n",
       "      <td>Basic 1</td>\n",
       "      <td>D</td>\n",
       "      <td>Divided</td>\n",
       "      <td>2</td>\n",
       "      <td>Divided</td>\n",
       "      <td>51</td>\n",
       "      <td>Divided Basics</td>\n",
       "      <td>1002</td>\n",
       "      <td>Jersey Basic</td>\n",
       "      <td>Long, sleeveless dress in jersey with narrow s...</td>\n",
       "    </tr>\n",
       "  </tbody>\n",
       "</table>\n",
       "<p>5 rows × 25 columns</p>\n",
       "</div>"
      ],
      "text/plain": [
       "     article_id  product_code            prod_name  product_type_no  \\\n",
       "204   192460006        192460           Knit dress              265   \n",
       "238   202017055        202017        Rihanna dress              265   \n",
       "261   212629004        212629  Alcazar strap dress              265   \n",
       "262   212629031        212629  Alcazar strap dress              265   \n",
       "263   212629032        212629  Alcazar strap dress              265   \n",
       "\n",
       "    product_type_name product_group_name  graphical_appearance_no  \\\n",
       "204             Dress  Garment Full body                  1010016   \n",
       "238             Dress  Garment Full body                  1010017   \n",
       "261             Dress  Garment Full body                  1010016   \n",
       "262             Dress  Garment Full body                  1010016   \n",
       "263             Dress  Garment Full body                  1010016   \n",
       "\n",
       "    graphical_appearance_name  colour_group_code colour_group_name  ...  \\\n",
       "204                     Solid                  8         Dark Grey  ...   \n",
       "238                    Stripe                 10             White  ...   \n",
       "261                     Solid                  9             Black  ...   \n",
       "262                     Solid                 93        Dark Green  ...   \n",
       "263                     Solid                 53         Dark Pink  ...   \n",
       "\n",
       "      department_name index_code  index_name index_group_no  index_group_name  \\\n",
       "204  Tops Knitwear DS          D     Divided              2           Divided   \n",
       "238      Jersey Basic          A  Ladieswear              1        Ladieswear   \n",
       "261           Basic 1          D     Divided              2           Divided   \n",
       "262           Basic 1          D     Divided              2           Divided   \n",
       "263           Basic 1          D     Divided              2           Divided   \n",
       "\n",
       "    section_no            section_name garment_group_no  garment_group_name  \\\n",
       "204         58        Divided Selected             1003            Knitwear   \n",
       "238         16  Womens Everyday Basics             1002        Jersey Basic   \n",
       "261         51          Divided Basics             1002        Jersey Basic   \n",
       "262         51          Divided Basics             1002        Jersey Basic   \n",
       "263         51          Divided Basics             1002        Jersey Basic   \n",
       "\n",
       "                                           detail_desc  \n",
       "204  Short, fine-knit dress with a hood, waterfall ...  \n",
       "238  Short-sleeved dress in slub jersey with an ela...  \n",
       "261  Long, sleeveless dress in jersey with narrow s...  \n",
       "262  Long, sleeveless dress in jersey with narrow s...  \n",
       "263  Long, sleeveless dress in jersey with narrow s...  \n",
       "\n",
       "[5 rows x 25 columns]"
      ]
     },
     "execution_count": 6,
     "metadata": {},
     "output_type": "execute_result"
    }
   ],
   "source": [
    "dresses = articles[ articles['product_type_name'] == 'Dress']\n",
    "\n",
    "dresses.head()"
   ]
  },
  {
   "cell_type": "code",
   "execution_count": 7,
   "id": "8710f2ac-5c9f-4374-8aed-528a7eff0114",
   "metadata": {},
   "outputs": [
    {
     "data": {
      "text/plain": [
       "index_group_name\n",
       "Ladieswear       5400\n",
       "Baby/Children    2502\n",
       "Divided          2460\n",
       "dtype: int64"
      ]
     },
     "execution_count": 7,
     "metadata": {},
     "output_type": "execute_result"
    }
   ],
   "source": [
    "dresses.value_counts(subset='index_group_name')"
   ]
  },
  {
   "cell_type": "code",
   "execution_count": 8,
   "id": "4b4f96d9-640a-4f46-bc73-878f9b049937",
   "metadata": {},
   "outputs": [
    {
     "data": {
      "text/plain": [
       "(5400, 25)"
      ]
     },
     "execution_count": 8,
     "metadata": {},
     "output_type": "execute_result"
    }
   ],
   "source": [
    "dresses = dresses[ dresses['index_group_name'] == 'Ladieswear' ]\n",
    "\n",
    "dresses.shape"
   ]
  },
  {
   "cell_type": "code",
   "execution_count": 9,
   "id": "9f6677fa-fb50-4fcb-98e2-2194ef777d02",
   "metadata": {},
   "outputs": [
    {
     "data": {
      "text/plain": [
       "[202017055, 220094001, 220094010, 220094011, 220094015]"
      ]
     },
     "execution_count": 9,
     "metadata": {},
     "output_type": "execute_result"
    }
   ],
   "source": [
    "all_dress_ids = list(dresses['article_id'])\n",
    "\n",
    "all_dress_ids[0:5]"
   ]
  },
  {
   "cell_type": "code",
   "execution_count": 10,
   "id": "b57bdeed-c232-4ba1-9b3a-a5779734c6b7",
   "metadata": {},
   "outputs": [],
   "source": [
    "dress_ids = []\n",
    "\n",
    "for dress in all_dress_ids:\n",
    "    id_string = '0'+str(dress)\n",
    "    path = '../images/'+id_string[0:3]\n",
    "    dir_list = os.listdir(path)\n",
    "    if id_string+'.jpg' in dir_list:\n",
    "        dress_ids.append(dress)"
   ]
  },
  {
   "cell_type": "code",
   "execution_count": 11,
   "id": "656f968f-e304-4d3e-87b5-bd267995ba03",
   "metadata": {},
   "outputs": [
    {
     "data": {
      "text/plain": [
       "5391"
      ]
     },
     "execution_count": 11,
     "metadata": {},
     "output_type": "execute_result"
    }
   ],
   "source": [
    "len(dress_ids)"
   ]
  },
  {
   "cell_type": "code",
   "execution_count": 12,
   "id": "0674b3e5-f4e5-4582-a61b-819b6a831e85",
   "metadata": {},
   "outputs": [],
   "source": [
    "def get_image_path(article_id):\n",
    "    \n",
    "    prod_string = '0'+str(article_id)\n",
    "    path = '../images/'+prod_string[0:3]+'/'+str(article_id)+'.jpg'\n",
    "    \n",
    "    return path\n",
    "    "
   ]
  },
  {
   "cell_type": "code",
   "execution_count": 15,
   "id": "3e4986a9-6f24-4831-b318-acfd43e8c43c",
   "metadata": {},
   "outputs": [],
   "source": [
    "resizer = transforms.Compose([transforms.Resize((320,224))])\n",
    "\n",
    "for dress in dress_ids:\n",
    "    prod_string = '0'+str(dress)+'.jpg'\n",
    "    path = '../images/'+prod_string[0:3]+'/'+prod_string\n",
    "    img = read_image(path)\n",
    "    \n",
    "    if img.shape[1]<img.shape[2]:\n",
    "        img = torch.transpose(img, 1, 2)\n",
    "    \n",
    "    img = resizer(img)\n",
    "    img = torch.div(img, 255)\n",
    "        \n",
    "    save_image(img, '../images_dresses_320x224/'+prod_string)"
   ]
  },
  {
   "cell_type": "code",
   "execution_count": null,
   "id": "d78226ef-0233-45a1-9cb9-c8d4a9e3af2f",
   "metadata": {},
   "outputs": [],
   "source": []
  },
  {
   "cell_type": "markdown",
   "id": "38d582ff-bc60-42e9-a27f-893777f8cc87",
   "metadata": {},
   "source": [
    "---"
   ]
  },
  {
   "cell_type": "markdown",
   "id": "a5996acc-b9f5-4105-9bef-880d195c2c87",
   "metadata": {},
   "source": [
    "In order to encode the image data into a vector (so that we may perform computations on similarity), we will pass the image data through the first half of the VGG-16 model. The VGG-16 model is a convolutional neural network originally trained to classify images across 1000 distinct categories.\n",
    "\n",
    "Since we are not doing image classification, we do not need the full model. Instead, we will be borrowing the pre-trained convolutional base and use it as **feature extractor** for our image data."
   ]
  },
  {
   "cell_type": "code",
   "execution_count": 36,
   "id": "4db0ab62-c44b-427e-af91-da104600558c",
   "metadata": {
    "tags": []
   },
   "outputs": [
    {
     "data": {
      "text/plain": [
       "VGG(\n",
       "  (features): Sequential(\n",
       "    (0): Conv2d(3, 64, kernel_size=(3, 3), stride=(1, 1), padding=(1, 1))\n",
       "    (1): ReLU(inplace=True)\n",
       "    (2): Conv2d(64, 64, kernel_size=(3, 3), stride=(1, 1), padding=(1, 1))\n",
       "    (3): ReLU(inplace=True)\n",
       "    (4): MaxPool2d(kernel_size=2, stride=2, padding=0, dilation=1, ceil_mode=False)\n",
       "    (5): Conv2d(64, 128, kernel_size=(3, 3), stride=(1, 1), padding=(1, 1))\n",
       "    (6): ReLU(inplace=True)\n",
       "    (7): Conv2d(128, 128, kernel_size=(3, 3), stride=(1, 1), padding=(1, 1))\n",
       "    (8): ReLU(inplace=True)\n",
       "    (9): MaxPool2d(kernel_size=2, stride=2, padding=0, dilation=1, ceil_mode=False)\n",
       "    (10): Conv2d(128, 256, kernel_size=(3, 3), stride=(1, 1), padding=(1, 1))\n",
       "    (11): ReLU(inplace=True)\n",
       "    (12): Conv2d(256, 256, kernel_size=(3, 3), stride=(1, 1), padding=(1, 1))\n",
       "    (13): ReLU(inplace=True)\n",
       "    (14): Conv2d(256, 256, kernel_size=(3, 3), stride=(1, 1), padding=(1, 1))\n",
       "    (15): ReLU(inplace=True)\n",
       "    (16): MaxPool2d(kernel_size=2, stride=2, padding=0, dilation=1, ceil_mode=False)\n",
       "    (17): Conv2d(256, 512, kernel_size=(3, 3), stride=(1, 1), padding=(1, 1))\n",
       "    (18): ReLU(inplace=True)\n",
       "    (19): Conv2d(512, 512, kernel_size=(3, 3), stride=(1, 1), padding=(1, 1))\n",
       "    (20): ReLU(inplace=True)\n",
       "    (21): Conv2d(512, 512, kernel_size=(3, 3), stride=(1, 1), padding=(1, 1))\n",
       "    (22): ReLU(inplace=True)\n",
       "    (23): MaxPool2d(kernel_size=2, stride=2, padding=0, dilation=1, ceil_mode=False)\n",
       "    (24): Conv2d(512, 512, kernel_size=(3, 3), stride=(1, 1), padding=(1, 1))\n",
       "    (25): ReLU(inplace=True)\n",
       "    (26): Conv2d(512, 512, kernel_size=(3, 3), stride=(1, 1), padding=(1, 1))\n",
       "    (27): ReLU(inplace=True)\n",
       "    (28): Conv2d(512, 512, kernel_size=(3, 3), stride=(1, 1), padding=(1, 1))\n",
       "    (29): ReLU(inplace=True)\n",
       "    (30): MaxPool2d(kernel_size=2, stride=2, padding=0, dilation=1, ceil_mode=False)\n",
       "  )\n",
       "  (avgpool): AdaptiveAvgPool2d(output_size=(7, 7))\n",
       "  (classifier): Sequential(\n",
       "    (0): Linear(in_features=25088, out_features=4096, bias=True)\n",
       "    (1): ReLU(inplace=True)\n",
       "    (2): Dropout(p=0.5, inplace=False)\n",
       "    (3): Linear(in_features=4096, out_features=4096, bias=True)\n",
       "    (4): ReLU(inplace=True)\n",
       "    (5): Dropout(p=0.5, inplace=False)\n",
       "    (6): Linear(in_features=4096, out_features=1000, bias=True)\n",
       "  )\n",
       ")"
      ]
     },
     "execution_count": 36,
     "metadata": {},
     "output_type": "execute_result"
    }
   ],
   "source": [
    "vgg16_model = torchvision.models.vgg16(pretrained=True)\n",
    "\n",
    "vgg16_model"
   ]
  },
  {
   "cell_type": "code",
   "execution_count": 38,
   "id": "2f1f5af7-0247-452e-a100-003e4525fbbd",
   "metadata": {},
   "outputs": [
    {
     "data": {
      "text/plain": [
       "Sequential(\n",
       "  (0): Conv2d(3, 64, kernel_size=(3, 3), stride=(1, 1), padding=(1, 1))\n",
       "  (1): ReLU(inplace=True)\n",
       "  (2): Conv2d(64, 64, kernel_size=(3, 3), stride=(1, 1), padding=(1, 1))\n",
       "  (3): ReLU(inplace=True)\n",
       "  (4): MaxPool2d(kernel_size=2, stride=2, padding=0, dilation=1, ceil_mode=False)\n",
       "  (5): Conv2d(64, 128, kernel_size=(3, 3), stride=(1, 1), padding=(1, 1))\n",
       "  (6): ReLU(inplace=True)\n",
       "  (7): Conv2d(128, 128, kernel_size=(3, 3), stride=(1, 1), padding=(1, 1))\n",
       "  (8): ReLU(inplace=True)\n",
       "  (9): MaxPool2d(kernel_size=2, stride=2, padding=0, dilation=1, ceil_mode=False)\n",
       "  (10): Conv2d(128, 256, kernel_size=(3, 3), stride=(1, 1), padding=(1, 1))\n",
       "  (11): ReLU(inplace=True)\n",
       "  (12): Conv2d(256, 256, kernel_size=(3, 3), stride=(1, 1), padding=(1, 1))\n",
       "  (13): ReLU(inplace=True)\n",
       "  (14): Conv2d(256, 256, kernel_size=(3, 3), stride=(1, 1), padding=(1, 1))\n",
       "  (15): ReLU(inplace=True)\n",
       "  (16): MaxPool2d(kernel_size=2, stride=2, padding=0, dilation=1, ceil_mode=False)\n",
       "  (17): Conv2d(256, 512, kernel_size=(3, 3), stride=(1, 1), padding=(1, 1))\n",
       "  (18): ReLU(inplace=True)\n",
       "  (19): Conv2d(512, 512, kernel_size=(3, 3), stride=(1, 1), padding=(1, 1))\n",
       "  (20): ReLU(inplace=True)\n",
       "  (21): Conv2d(512, 512, kernel_size=(3, 3), stride=(1, 1), padding=(1, 1))\n",
       "  (22): ReLU(inplace=True)\n",
       "  (23): MaxPool2d(kernel_size=2, stride=2, padding=0, dilation=1, ceil_mode=False)\n",
       "  (24): Conv2d(512, 512, kernel_size=(3, 3), stride=(1, 1), padding=(1, 1))\n",
       "  (25): ReLU(inplace=True)\n",
       "  (26): Conv2d(512, 512, kernel_size=(3, 3), stride=(1, 1), padding=(1, 1))\n",
       "  (27): ReLU(inplace=True)\n",
       "  (28): Conv2d(512, 512, kernel_size=(3, 3), stride=(1, 1), padding=(1, 1))\n",
       "  (29): ReLU(inplace=True)\n",
       "  (30): MaxPool2d(kernel_size=2, stride=2, padding=0, dilation=1, ceil_mode=False)\n",
       ")"
      ]
     },
     "execution_count": 38,
     "metadata": {},
     "output_type": "execute_result"
    }
   ],
   "source": [
    "# only use the convolutional base of VGG-16\n",
    "model = vgg16_model.features\n",
    "\n",
    "model"
   ]
  },
  {
   "cell_type": "code",
   "execution_count": null,
   "id": "b084f8a2-eec3-4bd5-96a4-5b9dd7c3a56b",
   "metadata": {},
   "outputs": [],
   "source": [
    "model.to('cuda')\n",
    "\n",
    "# we need to freeze the convolutional base (since we don't want to train or alter it in anyway).\n",
    "# To do this in PyTorch, we just simply have to turn off the Autograd tracker.\n",
    "for param in model.parameters():\n",
    "    param.requires_grad = False"
   ]
  },
  {
   "cell_type": "code",
   "execution_count": 196,
   "id": "75034980-c645-462e-a710-5c8a76c633cc",
   "metadata": {},
   "outputs": [
    {
     "data": {
      "text/plain": [
       "['../models/vgg16_feature_extractor.pkl']"
      ]
     },
     "execution_count": 196,
     "metadata": {},
     "output_type": "execute_result"
    }
   ],
   "source": [
    "joblib.dump(model, '../models/vgg16_feature_extractor.pkl')"
   ]
  },
  {
   "cell_type": "code",
   "execution_count": 101,
   "id": "5c177ab4-23d5-4d80-986b-0691ed3e69bd",
   "metadata": {},
   "outputs": [],
   "source": [
    "# define a Dataset object. This allows us to control how the images are loaded into memory.\n",
    "# We will load the images lazily (i.e. 1 at a time to avoid RAM issues).\n",
    "class DressImageDataSet(Dataset):\n",
    "    \n",
    "    def __init__(self, image_dir, transform=None):\n",
    "        self.dir_list = os.listdir(image_dir)\n",
    "        self.image_dir = image_dir\n",
    "        self.transform = transform\n",
    "        \n",
    "    def __len__(self):\n",
    "        return len(self.dir_list)\n",
    "    \n",
    "    \n",
    "    def __getitem__(self, idx):\n",
    "        img_name = self.dir_list[idx]\n",
    "        img_path = self.image_dir+'/'+self.dir_list[idx]\n",
    "        image = read_image(img_path)\n",
    "        image = torch.div(image,255)\n",
    "        image.to('cuda')\n",
    "        \n",
    "        if self.transform:\n",
    "            image = self.transform(image)\n",
    "            \n",
    "        return image, img_name\n",
    "    "
   ]
  },
  {
   "cell_type": "code",
   "execution_count": 134,
   "id": "ac93a3f8-d67a-4cc1-ba5b-deae81515335",
   "metadata": {},
   "outputs": [],
   "source": [
    "normalize = transforms.Normalize(mean=[0.485, 0.456, 0.406], std=[0.229, 0.224, 0.225])\n",
    "\n",
    "dress_data = DressImageDataSet( image_dir='../images_dresses_320x224', transform=normalize)\n",
    "dress_loader = DataLoader(dress_data, batch_size=1, shuffle=False)"
   ]
  },
  {
   "cell_type": "markdown",
   "id": "f982ed99-68f4-4db2-89ea-0a88c296c8c8",
   "metadata": {},
   "source": [
    "- Let's quickly demonstrate an example of how this encoding will work. First we load an image as PyTorch tensor."
   ]
  },
  {
   "cell_type": "code",
   "execution_count": 135,
   "id": "078e6e6c-9fae-4b8e-8ddb-f7fc6b9fa808",
   "metadata": {},
   "outputs": [
    {
     "name": "stderr",
     "output_type": "stream",
     "text": [
      "Clipping input data to the valid range for imshow with RGB data ([0..1] for floats or [0..255] for integers).\n"
     ]
    },
    {
     "name": "stdout",
     "output_type": "stream",
     "text": [
      "('0202017055.jpg',)\n"
     ]
    },
    {
     "data": {
      "image/png": "[encoded data removed]",
      "text/plain": [
       "<Figure size 432x288 with 1 Axes>"
      ]
     },
     "metadata": {
      "needs_background": "light"
     },
     "output_type": "display_data"
    }
   ],
   "source": [
    "img, name = next(iter(dress_loader))\n",
    "\n",
    "print(name)\n",
    "plt.imshow(img[0].permute(1,2,0));"
   ]
  },
  {
   "cell_type": "markdown",
   "id": "2acd18c5-c524-4b0a-be44-79015d598991",
   "metadata": {},
   "source": [
    "- Next we'll move the torch tensor to the GPU for computational speed, then feed it through the convolutional base."
   ]
  },
  {
   "cell_type": "code",
   "execution_count": 136,
   "id": "98cddac8-e51a-465a-9fd1-5403f30164fb",
   "metadata": {},
   "outputs": [
    {
     "data": {
      "text/plain": [
       "torch.Size([1, 512, 10, 7])"
      ]
     },
     "execution_count": 136,
     "metadata": {},
     "output_type": "execute_result"
    }
   ],
   "source": [
    "test_vector = model(img.to('cuda'))\n",
    "\n",
    "test_vector.shape"
   ]
  },
  {
   "cell_type": "markdown",
   "id": "96a51b5f-3dc7-42fc-a5d1-09a4c3ec0eb6",
   "metadata": {},
   "source": [
    "- The result is a 512 x 10 x 7 tensor. This is a stack of 10 x 7 matrices that's 512 layers deep. We will need to flatten this down into a single long vector."
   ]
  },
  {
   "cell_type": "code",
   "execution_count": 137,
   "id": "f1cd1239-84d5-4ec8-9f0a-4400aa8ee760",
   "metadata": {},
   "outputs": [
    {
     "data": {
      "text/plain": [
       "torch.Size([35840])"
      ]
     },
     "execution_count": 137,
     "metadata": {},
     "output_type": "execute_result"
    }
   ],
   "source": [
    "flatten = nn.Flatten()\n",
    "\n",
    "flatten((test_vector))[0].shape"
   ]
  },
  {
   "cell_type": "markdown",
   "id": "3916f2ce-ca40-4d1b-a5c7-9c1139f3d512",
   "metadata": {},
   "source": [
    "- The result is a 35,840 dimensional vector.\n",
    "\n",
    "With the single example worked out, let us repeat the process for all the dresses in our inventory."
   ]
  },
  {
   "cell_type": "code",
   "execution_count": 221,
   "id": "21fa5b8e-a6de-4108-9edf-7c35628312c9",
   "metadata": {},
   "outputs": [],
   "source": [
    "data = []\n",
    "names = []\n",
    "flatten = nn.Flatten()\n",
    "\n",
    "# pass each of the dresses through the convolutional base, encoding them into latent vectors\n",
    "for (image, name) in dress_loader:\n",
    "    temp_vec = model(image.to('cuda'))\n",
    "    temp_vec = flatten(temp_vec)[0].to('cpu').numpy()\n",
    "    data.append(temp_vec)\n",
    "    names.append(name[0][0:10])"
   ]
  },
  {
   "cell_type": "code",
   "execution_count": 222,
   "id": "a7e1d6a6-06e7-402e-98f5-dc82c96d880f",
   "metadata": {},
   "outputs": [],
   "source": [
    "dress_encodings = pd.DataFrame(data, index=names)"
   ]
  },
  {
   "cell_type": "code",
   "execution_count": 223,
   "id": "df99a483-4b2e-4199-b82f-636544e70017",
   "metadata": {},
   "outputs": [],
   "source": [
    "dress_encodings.reset_index(inplace=True)"
   ]
  },
  {
   "cell_type": "code",
   "execution_count": 224,
   "id": "12ba38a5-8ad7-4f61-a2a9-59757e1a8295",
   "metadata": {},
   "outputs": [],
   "source": [
    "dress_encodings.rename(columns={'index':'article_id'},inplace=True)"
   ]
  },
  {
   "cell_type": "code",
   "execution_count": 225,
   "id": "2e99948e-cf66-4306-a3cc-6c2f68c4e979",
   "metadata": {},
   "outputs": [
    {
     "data": {
      "text/html": [
       "<div>\n",
       "<style scoped>\n",
       "    .dataframe tbody tr th:only-of-type {\n",
       "        vertical-align: middle;\n",
       "    }\n",
       "\n",
       "    .dataframe tbody tr th {\n",
       "        vertical-align: top;\n",
       "    }\n",
       "\n",
       "    .dataframe thead th {\n",
       "        text-align: right;\n",
       "    }\n",
       "</style>\n",
       "<table border=\"1\" class=\"dataframe\">\n",
       "  <thead>\n",
       "    <tr style=\"text-align: right;\">\n",
       "      <th></th>\n",
       "      <th>article_id</th>\n",
       "      <th>0</th>\n",
       "      <th>1</th>\n",
       "      <th>2</th>\n",
       "      <th>3</th>\n",
       "      <th>4</th>\n",
       "      <th>5</th>\n",
       "      <th>6</th>\n",
       "      <th>7</th>\n",
       "      <th>8</th>\n",
       "      <th>...</th>\n",
       "      <th>35830</th>\n",
       "      <th>35831</th>\n",
       "      <th>35832</th>\n",
       "      <th>35833</th>\n",
       "      <th>35834</th>\n",
       "      <th>35835</th>\n",
       "      <th>35836</th>\n",
       "      <th>35837</th>\n",
       "      <th>35838</th>\n",
       "      <th>35839</th>\n",
       "    </tr>\n",
       "  </thead>\n",
       "  <tbody>\n",
       "    <tr>\n",
       "      <th>0</th>\n",
       "      <td>0202017055</td>\n",
       "      <td>0.0</td>\n",
       "      <td>0.451366</td>\n",
       "      <td>0.630429</td>\n",
       "      <td>0.0</td>\n",
       "      <td>0.0</td>\n",
       "      <td>0.0</td>\n",
       "      <td>0.0</td>\n",
       "      <td>0.0</td>\n",
       "      <td>0.0</td>\n",
       "      <td>...</td>\n",
       "      <td>0.225049</td>\n",
       "      <td>0.000000</td>\n",
       "      <td>0.0</td>\n",
       "      <td>0.0</td>\n",
       "      <td>0.0</td>\n",
       "      <td>0.0</td>\n",
       "      <td>0.0</td>\n",
       "      <td>0.0</td>\n",
       "      <td>0.0</td>\n",
       "      <td>0.0</td>\n",
       "    </tr>\n",
       "    <tr>\n",
       "      <th>1</th>\n",
       "      <td>0220094001</td>\n",
       "      <td>0.0</td>\n",
       "      <td>0.000000</td>\n",
       "      <td>0.000000</td>\n",
       "      <td>0.0</td>\n",
       "      <td>0.0</td>\n",
       "      <td>0.0</td>\n",
       "      <td>0.0</td>\n",
       "      <td>0.0</td>\n",
       "      <td>0.0</td>\n",
       "      <td>...</td>\n",
       "      <td>0.000000</td>\n",
       "      <td>0.000000</td>\n",
       "      <td>0.0</td>\n",
       "      <td>0.0</td>\n",
       "      <td>0.0</td>\n",
       "      <td>0.0</td>\n",
       "      <td>0.0</td>\n",
       "      <td>0.0</td>\n",
       "      <td>0.0</td>\n",
       "      <td>0.0</td>\n",
       "    </tr>\n",
       "    <tr>\n",
       "      <th>2</th>\n",
       "      <td>0220094010</td>\n",
       "      <td>0.0</td>\n",
       "      <td>0.000000</td>\n",
       "      <td>0.000000</td>\n",
       "      <td>0.0</td>\n",
       "      <td>0.0</td>\n",
       "      <td>0.0</td>\n",
       "      <td>0.0</td>\n",
       "      <td>0.0</td>\n",
       "      <td>0.0</td>\n",
       "      <td>...</td>\n",
       "      <td>0.000000</td>\n",
       "      <td>0.000000</td>\n",
       "      <td>0.0</td>\n",
       "      <td>0.0</td>\n",
       "      <td>0.0</td>\n",
       "      <td>0.0</td>\n",
       "      <td>0.0</td>\n",
       "      <td>0.0</td>\n",
       "      <td>0.0</td>\n",
       "      <td>0.0</td>\n",
       "    </tr>\n",
       "    <tr>\n",
       "      <th>3</th>\n",
       "      <td>0220094011</td>\n",
       "      <td>0.0</td>\n",
       "      <td>0.000000</td>\n",
       "      <td>0.000000</td>\n",
       "      <td>0.0</td>\n",
       "      <td>0.0</td>\n",
       "      <td>0.0</td>\n",
       "      <td>0.0</td>\n",
       "      <td>0.0</td>\n",
       "      <td>0.0</td>\n",
       "      <td>...</td>\n",
       "      <td>0.000000</td>\n",
       "      <td>0.000000</td>\n",
       "      <td>0.0</td>\n",
       "      <td>0.0</td>\n",
       "      <td>0.0</td>\n",
       "      <td>0.0</td>\n",
       "      <td>0.0</td>\n",
       "      <td>0.0</td>\n",
       "      <td>0.0</td>\n",
       "      <td>0.0</td>\n",
       "    </tr>\n",
       "    <tr>\n",
       "      <th>4</th>\n",
       "      <td>0220094015</td>\n",
       "      <td>0.0</td>\n",
       "      <td>0.000000</td>\n",
       "      <td>0.000000</td>\n",
       "      <td>0.0</td>\n",
       "      <td>0.0</td>\n",
       "      <td>0.0</td>\n",
       "      <td>0.0</td>\n",
       "      <td>0.0</td>\n",
       "      <td>0.0</td>\n",
       "      <td>...</td>\n",
       "      <td>0.000000</td>\n",
       "      <td>0.000157</td>\n",
       "      <td>0.0</td>\n",
       "      <td>0.0</td>\n",
       "      <td>0.0</td>\n",
       "      <td>0.0</td>\n",
       "      <td>0.0</td>\n",
       "      <td>0.0</td>\n",
       "      <td>0.0</td>\n",
       "      <td>0.0</td>\n",
       "    </tr>\n",
       "  </tbody>\n",
       "</table>\n",
       "<p>5 rows × 35841 columns</p>\n",
       "</div>"
      ],
      "text/plain": [
       "   article_id    0         1         2    3    4    5    6    7    8  ...  \\\n",
       "0  0202017055  0.0  0.451366  0.630429  0.0  0.0  0.0  0.0  0.0  0.0  ...   \n",
       "1  0220094001  0.0  0.000000  0.000000  0.0  0.0  0.0  0.0  0.0  0.0  ...   \n",
       "2  0220094010  0.0  0.000000  0.000000  0.0  0.0  0.0  0.0  0.0  0.0  ...   \n",
       "3  0220094011  0.0  0.000000  0.000000  0.0  0.0  0.0  0.0  0.0  0.0  ...   \n",
       "4  0220094015  0.0  0.000000  0.000000  0.0  0.0  0.0  0.0  0.0  0.0  ...   \n",
       "\n",
       "      35830     35831  35832  35833  35834  35835  35836  35837  35838  35839  \n",
       "0  0.225049  0.000000    0.0    0.0    0.0    0.0    0.0    0.0    0.0    0.0  \n",
       "1  0.000000  0.000000    0.0    0.0    0.0    0.0    0.0    0.0    0.0    0.0  \n",
       "2  0.000000  0.000000    0.0    0.0    0.0    0.0    0.0    0.0    0.0    0.0  \n",
       "3  0.000000  0.000000    0.0    0.0    0.0    0.0    0.0    0.0    0.0    0.0  \n",
       "4  0.000000  0.000157    0.0    0.0    0.0    0.0    0.0    0.0    0.0    0.0  \n",
       "\n",
       "[5 rows x 35841 columns]"
      ]
     },
     "execution_count": 225,
     "metadata": {},
     "output_type": "execute_result"
    }
   ],
   "source": [
    "dress_encodings.head()"
   ]
  },
  {
   "cell_type": "markdown",
   "id": "425734c5-3f72-4514-8b77-01f3fba45c87",
   "metadata": {},
   "source": []
  },
  {
   "cell_type": "code",
   "execution_count": 226,
   "id": "425594ad-c56b-4624-8b27-9b31b0f84157",
   "metadata": {},
   "outputs": [
    {
     "data": {
      "text/plain": [
       "'0202017055'"
      ]
     },
     "execution_count": 226,
     "metadata": {},
     "output_type": "execute_result"
    }
   ],
   "source": [
    "dress_encodings.iloc[0,0]"
   ]
  },
  {
   "cell_type": "code",
   "execution_count": 227,
   "id": "2375ba00-36db-41fd-8085-04e54550d796",
   "metadata": {},
   "outputs": [
    {
     "data": {
      "text/plain": [
       "(5391, 35841)"
      ]
     },
     "execution_count": 227,
     "metadata": {},
     "output_type": "execute_result"
    }
   ],
   "source": [
    "dress_encodings.shape"
   ]
  },
  {
   "cell_type": "code",
   "execution_count": 228,
   "id": "33938e19-6855-489f-86ee-c96d52401299",
   "metadata": {},
   "outputs": [
    {
     "data": {
      "text/plain": [
       "['../models/dress_encodings.pkl']"
      ]
     },
     "execution_count": 228,
     "metadata": {},
     "output_type": "execute_result"
    }
   ],
   "source": [
    "joblib.dump(dress_encodings, '../models/dress_encodings.pkl')"
   ]
  },
  {
   "cell_type": "code",
   "execution_count": 229,
   "id": "4ab50cbc-dcab-4933-982d-f6644ded3064",
   "metadata": {},
   "outputs": [
    {
     "data": {
      "text/plain": [
       "array([0.0, 0.45136577, 0.6304287, ..., 0.0, 0.0, 0.0], dtype=object)"
      ]
     },
     "execution_count": 229,
     "metadata": {},
     "output_type": "execute_result"
    }
   ],
   "source": [
    "latent_vector = np.array(dress_encodings.iloc[0, 1:])\n",
    "\n",
    "latent_vector"
   ]
  },
  {
   "cell_type": "markdown",
   "id": "038feffe-8fa6-4225-879c-3b57432a613a",
   "metadata": {},
   "source": [
    "Now, we want the user to be able to upload an image of a dress and query that image against our database of encoded dress vectors.\n",
    "\n",
    "To demonstrate how we can do this, we found a dress from Google that is not in our inventory.\n",
    "- We take the dress and encode into a latent vector using the VGG-16 convolutional base.\n",
    "- We then compare query vector against our database of latent vectors using Cosine Similarity.\n",
    "- Return the images with highest similarity score."
   ]
  },
  {
   "cell_type": "code",
   "execution_count": 230,
   "id": "8dbe6eae-c31c-4e87-a6f3-50d34c249c7f",
   "metadata": {},
   "outputs": [],
   "source": [
    "# define a function which loads an query image and encode it via VGG-16\n",
    "def load_query(path=None):\n",
    "    if path==None:\n",
    "        filename = os.listdir('../image_query')[0]\n",
    "        path = '../image_query/'+filename\n",
    "    \n",
    "    query = read_image(path)\n",
    "    query = resizer(query)\n",
    "    query = torch.div(query, 255)\n",
    "    query = normalize(query).to('cuda')\n",
    "    query = model(query)\n",
    "    query = query.view(1, query.shape[0], query.shape[1], query.shape[2])\n",
    "    query = flatten(query)[0].to('cpu').numpy()\n",
    "    \n",
    "    return query"
   ]
  },
  {
   "cell_type": "code",
   "execution_count": 9,
   "id": "aaf1fe8e-2cec-4992-88e1-81c39492a983",
   "metadata": {},
   "outputs": [
    {
     "data": {
      "image/png": "[encoded data removed]",
      "text/plain": [
       "<Figure size 432x288 with 1 Axes>"
      ]
     },
     "metadata": {
      "needs_background": "light"
     },
     "output_type": "display_data"
    }
   ],
   "source": [
    "plt.imshow(mpimg.imread('../image_query/query.jpg'));"
   ]
  },
  {
   "cell_type": "code",
   "execution_count": 247,
   "id": "f0909597-babd-4036-aaa0-af4ed54d29a3",
   "metadata": {},
   "outputs": [
    {
     "data": {
      "text/plain": [
       "tensor([[[255, 255, 255,  ..., 255, 255, 255],\n",
       "         [255, 255, 255,  ..., 255, 255, 255],\n",
       "         [255, 255, 255,  ..., 255, 255, 255],\n",
       "         ...,\n",
       "         [255, 255, 255,  ..., 255, 255, 255],\n",
       "         [255, 255, 255,  ..., 255, 255, 255],\n",
       "         [255, 255, 255,  ..., 255, 255, 255]],\n",
       "\n",
       "        [[255, 255, 255,  ..., 255, 255, 255],\n",
       "         [255, 255, 255,  ..., 255, 255, 255],\n",
       "         [255, 255, 255,  ..., 255, 255, 255],\n",
       "         ...,\n",
       "         [255, 255, 255,  ..., 255, 255, 255],\n",
       "         [255, 255, 255,  ..., 255, 255, 255],\n",
       "         [255, 255, 255,  ..., 255, 255, 255]],\n",
       "\n",
       "        [[255, 255, 255,  ..., 255, 255, 255],\n",
       "         [255, 255, 255,  ..., 255, 255, 255],\n",
       "         [255, 255, 255,  ..., 255, 255, 255],\n",
       "         ...,\n",
       "         [255, 255, 255,  ..., 255, 255, 255],\n",
       "         [255, 255, 255,  ..., 255, 255, 255],\n",
       "         [255, 255, 255,  ..., 255, 255, 255]]], dtype=torch.uint8)"
      ]
     },
     "execution_count": 247,
     "metadata": {},
     "output_type": "execute_result"
    }
   ],
   "source": [
    "read_image('../image_query/query.jpg')"
   ]
  },
  {
   "cell_type": "code",
   "execution_count": 231,
   "id": "a43dd7fa-274c-496f-9aeb-b4150b5a8f64",
   "metadata": {},
   "outputs": [],
   "source": [
    "query_image = load_query()"
   ]
  },
  {
   "cell_type": "code",
   "execution_count": 232,
   "id": "9762604c-78c4-4ca3-af50-7134509d0f22",
   "metadata": {},
   "outputs": [
    {
     "data": {
      "text/plain": [
       "(35840,)"
      ]
     },
     "execution_count": 232,
     "metadata": {},
     "output_type": "execute_result"
    }
   ],
   "source": [
    "query_image.shape"
   ]
  },
  {
   "cell_type": "code",
   "execution_count": 233,
   "id": "156d8272-eef2-4f08-b456-349fbf29ee4a",
   "metadata": {},
   "outputs": [
    {
     "data": {
      "text/plain": [
       "0.209788200866107"
      ]
     },
     "execution_count": 233,
     "metadata": {},
     "output_type": "execute_result"
    }
   ],
   "source": [
    "# compute cosine similarity of query image against a specific image in our database\n",
    "cosine_similarity(query_image.reshape(1, query_image.shape[0]), latent_vector.reshape(1, latent_vector.shape[0]))[0][0]"
   ]
  },
  {
   "cell_type": "code",
   "execution_count": null,
   "id": "a67e1b2f-dff6-4b85-a60a-f582ee780121",
   "metadata": {},
   "outputs": [],
   "source": []
  },
  {
   "cell_type": "code",
   "execution_count": 234,
   "id": "3e7e6294-4aa8-44ce-8b88-21e5f43621db",
   "metadata": {},
   "outputs": [],
   "source": [
    "# repeat the above process and compute similarity against all dresses in our database.\n",
    "similarities = []\n",
    "\n",
    "for i in range(dress_encodings.shape[0]):\n",
    "    article_id = dress_encodings.iloc[i,0]\n",
    "    latent = np.array(dress_encodings.iloc[i, 1:])\n",
    "    sim = cosine_similarity(query_image.reshape(1, query_image.shape[0]), latent.reshape(1, latent.shape[0]))[0][0]\n",
    "    similarities.append([article_id, sim])\n",
    "    "
   ]
  },
  {
   "cell_type": "code",
   "execution_count": 235,
   "id": "d84f4f33-c75b-417b-9b3d-a0e77764a592",
   "metadata": {},
   "outputs": [],
   "source": [
    "df = pd.DataFrame(similarities, columns=['article_id', 'similarity'])"
   ]
  },
  {
   "cell_type": "code",
   "execution_count": 237,
   "id": "abcc3b57-c211-4e86-bfe8-dfcaf7965f86",
   "metadata": {},
   "outputs": [
    {
     "data": {
      "text/html": [
       "<div>\n",
       "<style scoped>\n",
       "    .dataframe tbody tr th:only-of-type {\n",
       "        vertical-align: middle;\n",
       "    }\n",
       "\n",
       "    .dataframe tbody tr th {\n",
       "        vertical-align: top;\n",
       "    }\n",
       "\n",
       "    .dataframe thead th {\n",
       "        text-align: right;\n",
       "    }\n",
       "</style>\n",
       "<table border=\"1\" class=\"dataframe\">\n",
       "  <thead>\n",
       "    <tr style=\"text-align: right;\">\n",
       "      <th></th>\n",
       "      <th>article_id</th>\n",
       "      <th>similarity</th>\n",
       "    </tr>\n",
       "  </thead>\n",
       "  <tbody>\n",
       "    <tr>\n",
       "      <th>3596</th>\n",
       "      <td>0810799002</td>\n",
       "      <td>0.620447</td>\n",
       "    </tr>\n",
       "    <tr>\n",
       "      <th>2412</th>\n",
       "      <td>0737098003</td>\n",
       "      <td>0.619930</td>\n",
       "    </tr>\n",
       "    <tr>\n",
       "      <th>2876</th>\n",
       "      <td>0764768005</td>\n",
       "      <td>0.561157</td>\n",
       "    </tr>\n",
       "    <tr>\n",
       "      <th>860</th>\n",
       "      <td>0617821002</td>\n",
       "      <td>0.560659</td>\n",
       "    </tr>\n",
       "    <tr>\n",
       "      <th>3390</th>\n",
       "      <td>0793962001</td>\n",
       "      <td>0.559066</td>\n",
       "    </tr>\n",
       "    <tr>\n",
       "      <th>...</th>\n",
       "      <td>...</td>\n",
       "      <td>...</td>\n",
       "    </tr>\n",
       "    <tr>\n",
       "      <th>1726</th>\n",
       "      <td>0683317001</td>\n",
       "      <td>0.072490</td>\n",
       "    </tr>\n",
       "    <tr>\n",
       "      <th>661</th>\n",
       "      <td>0606800002</td>\n",
       "      <td>0.069868</td>\n",
       "    </tr>\n",
       "    <tr>\n",
       "      <th>378</th>\n",
       "      <td>0568838004</td>\n",
       "      <td>0.065954</td>\n",
       "    </tr>\n",
       "    <tr>\n",
       "      <th>1505</th>\n",
       "      <td>0664060001</td>\n",
       "      <td>0.065759</td>\n",
       "    </tr>\n",
       "    <tr>\n",
       "      <th>876</th>\n",
       "      <td>0618287008</td>\n",
       "      <td>0.064610</td>\n",
       "    </tr>\n",
       "  </tbody>\n",
       "</table>\n",
       "<p>5391 rows × 2 columns</p>\n",
       "</div>"
      ],
      "text/plain": [
       "      article_id  similarity\n",
       "3596  0810799002    0.620447\n",
       "2412  0737098003    0.619930\n",
       "2876  0764768005    0.561157\n",
       "860   0617821002    0.560659\n",
       "3390  0793962001    0.559066\n",
       "...          ...         ...\n",
       "1726  0683317001    0.072490\n",
       "661   0606800002    0.069868\n",
       "378   0568838004    0.065954\n",
       "1505  0664060001    0.065759\n",
       "876   0618287008    0.064610\n",
       "\n",
       "[5391 rows x 2 columns]"
      ]
     },
     "execution_count": 237,
     "metadata": {},
     "output_type": "execute_result"
    }
   ],
   "source": [
    "# return the dresses most similary to query image\n",
    "df.sort_values(by='similarity', ascending=False)"
   ]
  },
  {
   "cell_type": "markdown",
   "id": "d085a6aa-2a9b-4f7f-b040-011fd7238184",
   "metadata": {},
   "source": [
    "---"
   ]
  },
  {
   "cell_type": "markdown",
   "id": "4ec270f6-4f6e-4e4f-8e5d-6ad6a8f824fd",
   "metadata": {},
   "source": [
    "- Functionally speaking, what we have effectively done is create a Google Image Search but for H&M dresses. This can be leveraged into a recommender system rather easily: just use the user's past purchases as the query image.\n",
    "    - We demonstrate an implementation of this in our web application, although the search time is rather long (approx. 3 mins on an RTX 3090 and approx. 6 mins on a normal CPU).\n",
    "\n",
    "- We can extend the functionality to other catogories of clothing: shows, tops, jackets, etc. Thus it might be possible to take the \"style\" of a past purchase and query other clothing types with the same style.\n",
    "    - E.g. say a user buys a dress with a floral pattern. It might be possible to query tops with a floral pattern and return that as a recommendation to the user."
   ]
  },
  {
   "cell_type": "code",
   "execution_count": null,
   "id": "9620c405-1da4-43b8-ac2d-09bb76d6f44a",
   "metadata": {},
   "outputs": [],
   "source": []
  }
 ],
 "metadata": {
  "kernelspec": {
   "display_name": "Python 3 (ipykernel)",
   "language": "python",
   "name": "python3"
  },
  "language_info": {
   "codemirror_mode": {
    "name": "ipython",
    "version": 3
   },
   "file_extension": ".py",
   "mimetype": "text/x-python",
   "name": "python",
   "nbconvert_exporter": "python",
   "pygments_lexer": "ipython3",
   "version": "3.9.12"
  }
 },
 "nbformat": 4,
 "nbformat_minor": 5
}
